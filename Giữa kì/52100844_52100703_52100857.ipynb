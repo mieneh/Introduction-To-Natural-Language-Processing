{
  "nbformat": 4,
  "nbformat_minor": 0,
  "metadata": {
    "colab": {
      "provenance": [],
      "gpuType": "T4"
    },
    "kernelspec": {
      "name": "python3",
      "display_name": "Python 3"
    },
    "language_info": {
      "name": "python"
    }
  },
  "cells": [
    {
      "cell_type": "markdown",
      "source": [
        "# Yêu cầu 1"
      ],
      "metadata": {
        "id": "P-xj_GH-8yFW"
      }
    },
    {
      "cell_type": "markdown",
      "source": [
        "Cài đặt thư viện"
      ],
      "metadata": {
        "id": "CHWyefsZ-Lw1"
      }
    },
    {
      "cell_type": "code",
      "execution_count": 1,
      "metadata": {
        "colab": {
          "base_uri": "https://localhost:8080/"
        },
        "id": "ij2ybjWCLt06",
        "outputId": "c5ca4e62-364d-4f79-95eb-9c6a91347511"
      },
      "outputs": [
        {
          "output_type": "stream",
          "name": "stdout",
          "text": [
            "Requirement already satisfied: gensim in /usr/local/lib/python3.10/dist-packages (4.3.2)\n",
            "Requirement already satisfied: numpy>=1.18.5 in /usr/local/lib/python3.10/dist-packages (from gensim) (1.25.2)\n",
            "Requirement already satisfied: scipy>=1.7.0 in /usr/local/lib/python3.10/dist-packages (from gensim) (1.11.4)\n",
            "Requirement already satisfied: smart-open>=1.8.1 in /usr/local/lib/python3.10/dist-packages (from gensim) (6.4.0)\n"
          ]
        }
      ],
      "source": [
        "!pip install gensim"
      ]
    },
    {
      "cell_type": "code",
      "source": [
        "from gensim.models import Word2Vec\n",
        "import gensim\n",
        "from nltk.tokenize import sent_tokenize, word_tokenize\n",
        "import warnings\n",
        "from sklearn.metrics.pairwise import cosine_similarity\n",
        "import numpy as np\n",
        "\n",
        "warnings.filterwarnings(action='ignore')"
      ],
      "metadata": {
        "id": "cor1ofTX-TFU"
      },
      "execution_count": 2,
      "outputs": []
    },
    {
      "cell_type": "markdown",
      "source": [
        "Tính vector trung bình cho một câu."
      ],
      "metadata": {
        "id": "nhYzi96T_aw4"
      }
    },
    {
      "cell_type": "code",
      "source": [
        "def AverageVector(s, M):\n",
        "    words = s.split()\n",
        "    vectors = [M.wv[word] for word in words if word in M.wv]\n",
        "    if len(vectors) == 0:\n",
        "        return np.zeros(M.vector_size)\n",
        "    return np.mean(vectors, axis=0)"
      ],
      "metadata": {
        "id": "etMpVZrF-mfp"
      },
      "execution_count": 3,
      "outputs": []
    },
    {
      "cell_type": "markdown",
      "source": [
        "Tính toán độ tương tự của câu đầu vào với các câu trong tập dữ liệu."
      ],
      "metadata": {
        "id": "HwhokLM8_E1w"
      }
    },
    {
      "cell_type": "code",
      "source": [
        "def MostSimilarSentence(X, S, M):\n",
        "    X_vector = AverageVector(X, M)\n",
        "    most_similar_sentence = None\n",
        "    max_similarity = -1\n",
        "    for s in S:\n",
        "        vector = AverageVector(s, M)\n",
        "        if np.all(X_vector == 0) or np.all(vector == 0):\n",
        "            continue\n",
        "        similarity = np.dot(X_vector, vector)/(np.linalg.norm(X_vector)*np.linalg.norm(vector))\n",
        "        if similarity > max_similarity:\n",
        "            max_similarity = similarity\n",
        "            most_similar_sentence = s\n",
        "    return most_similar_sentence, max_similarity"
      ],
      "metadata": {
        "id": "aCfdRMaF_RPk"
      },
      "execution_count": 4,
      "outputs": []
    },
    {
      "cell_type": "markdown",
      "source": [
        "Cho 1 tập các câu gọi là S = {s1, s2, …, sn}.\n",
        "Nhập vào 1 câu X, hãy tìm câu si nào đó trong tập S mà tương tự với X nhiều nhất\n",
        "bold text"
      ],
      "metadata": {
        "id": "S__pSt9ndH_Q"
      }
    },
    {
      "cell_type": "code",
      "source": [
        "# Tập các sentences S\n",
        "S = [\"This is a cat\", \"That is a dog\", \"I love cats and dogs\", \"Cats are cute\",\n",
        "     \"Dogs are loyal pets\", \"I have a pet cat\", \"The cat is sleeping\",\n",
        "     \"I am allergic to dogs\", \"She is playing with her pet bird\",\n",
        "     \"We like rabbits\", \"She has an adorable dog\"]\n",
        "\n",
        "# Chuyển đổi các câu thành danh sách các từ\n",
        "S_token = [sentence.split() for sentence in S]"
      ],
      "metadata": {
        "id": "WNic7rogL-MC"
      },
      "execution_count": 5,
      "outputs": []
    },
    {
      "cell_type": "code",
      "source": [
        "# Xây dựng mô hình Word2Vec theo CBOW\n",
        "M_1 = Word2Vec(S_token, sg=0, min_count=1)\n",
        "\n",
        "# Xây dựng mô hình Word2Vec theo Skip-gram\n",
        "M_2 = Word2Vec(S_token, sg=1, min_count=1)"
      ],
      "metadata": {
        "id": "OBC5iw6qH9-A"
      },
      "execution_count": 6,
      "outputs": []
    },
    {
      "cell_type": "code",
      "source": [
        "# Nhập câu X từ bàn phím.\n",
        "X = input(\"Nhập X: \")\n",
        "\n",
        "print(\"\\n----------- Kết quả theo mô hình CBOW: -----------\")\n",
        "most_similar_1, similarity_1 = MostSimilarSentence(X, S, M_1)\n",
        "print(\"Câu tương tự nhất:\", most_similar_1)\n",
        "print(\"Độ tương tự:\", similarity_1)\n",
        "\n",
        "print(\"\\n----------- Kết quả theo mô hình Skip-gram: -----------\")\n",
        "most_similar_2, similarity_2 = MostSimilarSentence(X, S, M_2)\n",
        "print(\"Câu tương tự nhất:\", most_similar_2)\n",
        "print(\"Độ tương tự:\", similarity_2)"
      ],
      "metadata": {
        "colab": {
          "base_uri": "https://localhost:8080/"
        },
        "id": "6yH_4VPEB95h",
        "outputId": "86c03bb0-2112-456e-e582-c7669bdd84dd"
      },
      "execution_count": 7,
      "outputs": [
        {
          "output_type": "stream",
          "name": "stdout",
          "text": [
            "Nhập X: bird\n",
            "\n",
            "----------- Kết quả theo mô hình CBOW: -----------\n",
            "Câu tương tự nhất: She is playing with her pet bird\n",
            "Độ tương tự: 0.26513693\n",
            "\n",
            "----------- Kết quả theo mô hình Skip-gram: -----------\n",
            "Câu tương tự nhất: She is playing with her pet bird\n",
            "Độ tương tự: 0.2651071\n"
          ]
        }
      ]
    },
    {
      "cell_type": "markdown",
      "source": [
        "# Yêu cầu 2"
      ],
      "metadata": {
        "id": "vl0skjgo821J"
      }
    },
    {
      "cell_type": "markdown",
      "source": [
        "Khai báo các thư viện và tải xuống một tập tin CSV \"facebook_comment_2k7.csv\" từ URL được cung cấp:"
      ],
      "metadata": {
        "id": "uTZeLc2uDhaW"
      }
    },
    {
      "cell_type": "code",
      "source": [
        "import requests\n",
        "\n",
        "url = \"https://drive.google.com/uc?export=download&id=1pMwMc89Ff_TOAiEcJe8Hm0ZLtJxeHQiC\"\n",
        "response = requests.get(url)\n",
        "\n",
        "with open(\"facebook_comment_2k7.csv\", \"wb\") as f:\n",
        "    f.write(response.content)"
      ],
      "metadata": {
        "id": "8ulGvdGkDdnP"
      },
      "execution_count": 8,
      "outputs": []
    },
    {
      "cell_type": "code",
      "source": [
        "import pandas as pd\n",
        "\n",
        "data = pd.read_csv(\"facebook_comment_2k7.csv\")\n",
        "\n",
        "print(data.shape)\n",
        "data.head(10)"
      ],
      "metadata": {
        "id": "4j2UNwot7wE2",
        "colab": {
          "base_uri": "https://localhost:8080/",
          "height": 380
        },
        "outputId": "e475df33-d13c-4205-a385-c34062cdff6e"
      },
      "execution_count": 10,
      "outputs": [
        {
          "output_type": "stream",
          "name": "stdout",
          "text": [
            "(2700, 4)\n"
          ]
        },
        {
          "output_type": "execute_result",
          "data": {
            "text/plain": [
              "   Unnamed: 0                                    id  \\\n",
              "0           0  3113b477-4ea3-4c3f-82d7-6ae6b8c12a3b   \n",
              "1           1  de5cf256-3879-413d-9e33-2c3be7e2e0c1   \n",
              "2           2  975a369c-acc2-487c-84dd-64a4764203cf   \n",
              "3           3  45aa9b39-c58a-4c91-941a-fe6373d009f5   \n",
              "4           4  99f6d7e6-b1c0-4849-9430-c60137737ead   \n",
              "5           5  6be18392-e2fc-4cb1-8141-50c62309c263   \n",
              "6           6  6c6365bd-d896-40aa-af7b-9b278b514d03   \n",
              "7           7  cbc9a9cc-2928-49a6-989f-7577978eb302   \n",
              "8           8  2fc630ec-b90e-4927-9820-e882030419b6   \n",
              "9           9  0dc1c1ce-d497-4074-8b57-51a67406547b   \n",
              "\n",
              "                                                text                  label  \n",
              "0  Noi cho biet k rãnh viet voi loai ng nhu chị c...         ['harassment']  \n",
              "1  -Giải ngân cực nhanh\\n-mức vay lên đến 15tr\\n👉...  ['dangerous_content']  \n",
              "2  Thủ tục đơn giản đăng ký khoản vay giải ngân l...  ['dangerous_content']  \n",
              "3  săn mãi con đen v5 cả tối k đc an ủi đc con be...             ['normal']  \n",
              "4  zalo 0375841653 ae nào mua kết bạn zalo đặt hà...  ['dangerous_content']  \n",
              "5   AE nào mua tiền giả kết bạn zalo 0375841653 U...  ['dangerous_content']  \n",
              "6  Dạ M2 có ạ , mời bạn ghé qua chi nhánh M2 bigC...             ['normal']  \n",
              "7    Em chi đặt 2 thùng mà 4 ngày chưa nhận được em!             ['normal']  \n",
              "8  Cụ bà said: biết thế k đẻ ra thằng bố nó để gi...        ['hate_speech']  \n",
              "9  Nguyễn Hồng Thúy em bơm mông vs zú hông ?? Fre...  ['sexaully_explixit']  "
            ],
            "text/html": [
              "\n",
              "  <div id=\"df-4b08c1a9-8c28-484a-b04b-9a2ef9889fda\" class=\"colab-df-container\">\n",
              "    <div>\n",
              "<style scoped>\n",
              "    .dataframe tbody tr th:only-of-type {\n",
              "        vertical-align: middle;\n",
              "    }\n",
              "\n",
              "    .dataframe tbody tr th {\n",
              "        vertical-align: top;\n",
              "    }\n",
              "\n",
              "    .dataframe thead th {\n",
              "        text-align: right;\n",
              "    }\n",
              "</style>\n",
              "<table border=\"1\" class=\"dataframe\">\n",
              "  <thead>\n",
              "    <tr style=\"text-align: right;\">\n",
              "      <th></th>\n",
              "      <th>Unnamed: 0</th>\n",
              "      <th>id</th>\n",
              "      <th>text</th>\n",
              "      <th>label</th>\n",
              "    </tr>\n",
              "  </thead>\n",
              "  <tbody>\n",
              "    <tr>\n",
              "      <th>0</th>\n",
              "      <td>0</td>\n",
              "      <td>3113b477-4ea3-4c3f-82d7-6ae6b8c12a3b</td>\n",
              "      <td>Noi cho biet k rãnh viet voi loai ng nhu chị c...</td>\n",
              "      <td>['harassment']</td>\n",
              "    </tr>\n",
              "    <tr>\n",
              "      <th>1</th>\n",
              "      <td>1</td>\n",
              "      <td>de5cf256-3879-413d-9e33-2c3be7e2e0c1</td>\n",
              "      <td>-Giải ngân cực nhanh\\n-mức vay lên đến 15tr\\n👉...</td>\n",
              "      <td>['dangerous_content']</td>\n",
              "    </tr>\n",
              "    <tr>\n",
              "      <th>2</th>\n",
              "      <td>2</td>\n",
              "      <td>975a369c-acc2-487c-84dd-64a4764203cf</td>\n",
              "      <td>Thủ tục đơn giản đăng ký khoản vay giải ngân l...</td>\n",
              "      <td>['dangerous_content']</td>\n",
              "    </tr>\n",
              "    <tr>\n",
              "      <th>3</th>\n",
              "      <td>3</td>\n",
              "      <td>45aa9b39-c58a-4c91-941a-fe6373d009f5</td>\n",
              "      <td>săn mãi con đen v5 cả tối k đc an ủi đc con be...</td>\n",
              "      <td>['normal']</td>\n",
              "    </tr>\n",
              "    <tr>\n",
              "      <th>4</th>\n",
              "      <td>4</td>\n",
              "      <td>99f6d7e6-b1c0-4849-9430-c60137737ead</td>\n",
              "      <td>zalo 0375841653 ae nào mua kết bạn zalo đặt hà...</td>\n",
              "      <td>['dangerous_content']</td>\n",
              "    </tr>\n",
              "    <tr>\n",
              "      <th>5</th>\n",
              "      <td>5</td>\n",
              "      <td>6be18392-e2fc-4cb1-8141-50c62309c263</td>\n",
              "      <td>AE nào mua tiền giả kết bạn zalo 0375841653 U...</td>\n",
              "      <td>['dangerous_content']</td>\n",
              "    </tr>\n",
              "    <tr>\n",
              "      <th>6</th>\n",
              "      <td>6</td>\n",
              "      <td>6c6365bd-d896-40aa-af7b-9b278b514d03</td>\n",
              "      <td>Dạ M2 có ạ , mời bạn ghé qua chi nhánh M2 bigC...</td>\n",
              "      <td>['normal']</td>\n",
              "    </tr>\n",
              "    <tr>\n",
              "      <th>7</th>\n",
              "      <td>7</td>\n",
              "      <td>cbc9a9cc-2928-49a6-989f-7577978eb302</td>\n",
              "      <td>Em chi đặt 2 thùng mà 4 ngày chưa nhận được em!</td>\n",
              "      <td>['normal']</td>\n",
              "    </tr>\n",
              "    <tr>\n",
              "      <th>8</th>\n",
              "      <td>8</td>\n",
              "      <td>2fc630ec-b90e-4927-9820-e882030419b6</td>\n",
              "      <td>Cụ bà said: biết thế k đẻ ra thằng bố nó để gi...</td>\n",
              "      <td>['hate_speech']</td>\n",
              "    </tr>\n",
              "    <tr>\n",
              "      <th>9</th>\n",
              "      <td>9</td>\n",
              "      <td>0dc1c1ce-d497-4074-8b57-51a67406547b</td>\n",
              "      <td>Nguyễn Hồng Thúy em bơm mông vs zú hông ?? Fre...</td>\n",
              "      <td>['sexaully_explixit']</td>\n",
              "    </tr>\n",
              "  </tbody>\n",
              "</table>\n",
              "</div>\n",
              "    <div class=\"colab-df-buttons\">\n",
              "\n",
              "  <div class=\"colab-df-container\">\n",
              "    <button class=\"colab-df-convert\" onclick=\"convertToInteractive('df-4b08c1a9-8c28-484a-b04b-9a2ef9889fda')\"\n",
              "            title=\"Convert this dataframe to an interactive table.\"\n",
              "            style=\"display:none;\">\n",
              "\n",
              "  <svg xmlns=\"http://www.w3.org/2000/svg\" height=\"24px\" viewBox=\"0 -960 960 960\">\n",
              "    <path d=\"M120-120v-720h720v720H120Zm60-500h600v-160H180v160Zm220 220h160v-160H400v160Zm0 220h160v-160H400v160ZM180-400h160v-160H180v160Zm440 0h160v-160H620v160ZM180-180h160v-160H180v160Zm440 0h160v-160H620v160Z\"/>\n",
              "  </svg>\n",
              "    </button>\n",
              "\n",
              "  <style>\n",
              "    .colab-df-container {\n",
              "      display:flex;\n",
              "      gap: 12px;\n",
              "    }\n",
              "\n",
              "    .colab-df-convert {\n",
              "      background-color: #E8F0FE;\n",
              "      border: none;\n",
              "      border-radius: 50%;\n",
              "      cursor: pointer;\n",
              "      display: none;\n",
              "      fill: #1967D2;\n",
              "      height: 32px;\n",
              "      padding: 0 0 0 0;\n",
              "      width: 32px;\n",
              "    }\n",
              "\n",
              "    .colab-df-convert:hover {\n",
              "      background-color: #E2EBFA;\n",
              "      box-shadow: 0px 1px 2px rgba(60, 64, 67, 0.3), 0px 1px 3px 1px rgba(60, 64, 67, 0.15);\n",
              "      fill: #174EA6;\n",
              "    }\n",
              "\n",
              "    .colab-df-buttons div {\n",
              "      margin-bottom: 4px;\n",
              "    }\n",
              "\n",
              "    [theme=dark] .colab-df-convert {\n",
              "      background-color: #3B4455;\n",
              "      fill: #D2E3FC;\n",
              "    }\n",
              "\n",
              "    [theme=dark] .colab-df-convert:hover {\n",
              "      background-color: #434B5C;\n",
              "      box-shadow: 0px 1px 3px 1px rgba(0, 0, 0, 0.15);\n",
              "      filter: drop-shadow(0px 1px 2px rgba(0, 0, 0, 0.3));\n",
              "      fill: #FFFFFF;\n",
              "    }\n",
              "  </style>\n",
              "\n",
              "    <script>\n",
              "      const buttonEl =\n",
              "        document.querySelector('#df-4b08c1a9-8c28-484a-b04b-9a2ef9889fda button.colab-df-convert');\n",
              "      buttonEl.style.display =\n",
              "        google.colab.kernel.accessAllowed ? 'block' : 'none';\n",
              "\n",
              "      async function convertToInteractive(key) {\n",
              "        const element = document.querySelector('#df-4b08c1a9-8c28-484a-b04b-9a2ef9889fda');\n",
              "        const dataTable =\n",
              "          await google.colab.kernel.invokeFunction('convertToInteractive',\n",
              "                                                    [key], {});\n",
              "        if (!dataTable) return;\n",
              "\n",
              "        const docLinkHtml = 'Like what you see? Visit the ' +\n",
              "          '<a target=\"_blank\" href=https://colab.research.google.com/notebooks/data_table.ipynb>data table notebook</a>'\n",
              "          + ' to learn more about interactive tables.';\n",
              "        element.innerHTML = '';\n",
              "        dataTable['output_type'] = 'display_data';\n",
              "        await google.colab.output.renderOutput(dataTable, element);\n",
              "        const docLink = document.createElement('div');\n",
              "        docLink.innerHTML = docLinkHtml;\n",
              "        element.appendChild(docLink);\n",
              "      }\n",
              "    </script>\n",
              "  </div>\n",
              "\n",
              "\n",
              "<div id=\"df-eff17ff8-b565-4eee-9156-398cdef34c55\">\n",
              "  <button class=\"colab-df-quickchart\" onclick=\"quickchart('df-eff17ff8-b565-4eee-9156-398cdef34c55')\"\n",
              "            title=\"Suggest charts\"\n",
              "            style=\"display:none;\">\n",
              "\n",
              "<svg xmlns=\"http://www.w3.org/2000/svg\" height=\"24px\"viewBox=\"0 0 24 24\"\n",
              "     width=\"24px\">\n",
              "    <g>\n",
              "        <path d=\"M19 3H5c-1.1 0-2 .9-2 2v14c0 1.1.9 2 2 2h14c1.1 0 2-.9 2-2V5c0-1.1-.9-2-2-2zM9 17H7v-7h2v7zm4 0h-2V7h2v10zm4 0h-2v-4h2v4z\"/>\n",
              "    </g>\n",
              "</svg>\n",
              "  </button>\n",
              "\n",
              "<style>\n",
              "  .colab-df-quickchart {\n",
              "      --bg-color: #E8F0FE;\n",
              "      --fill-color: #1967D2;\n",
              "      --hover-bg-color: #E2EBFA;\n",
              "      --hover-fill-color: #174EA6;\n",
              "      --disabled-fill-color: #AAA;\n",
              "      --disabled-bg-color: #DDD;\n",
              "  }\n",
              "\n",
              "  [theme=dark] .colab-df-quickchart {\n",
              "      --bg-color: #3B4455;\n",
              "      --fill-color: #D2E3FC;\n",
              "      --hover-bg-color: #434B5C;\n",
              "      --hover-fill-color: #FFFFFF;\n",
              "      --disabled-bg-color: #3B4455;\n",
              "      --disabled-fill-color: #666;\n",
              "  }\n",
              "\n",
              "  .colab-df-quickchart {\n",
              "    background-color: var(--bg-color);\n",
              "    border: none;\n",
              "    border-radius: 50%;\n",
              "    cursor: pointer;\n",
              "    display: none;\n",
              "    fill: var(--fill-color);\n",
              "    height: 32px;\n",
              "    padding: 0;\n",
              "    width: 32px;\n",
              "  }\n",
              "\n",
              "  .colab-df-quickchart:hover {\n",
              "    background-color: var(--hover-bg-color);\n",
              "    box-shadow: 0 1px 2px rgba(60, 64, 67, 0.3), 0 1px 3px 1px rgba(60, 64, 67, 0.15);\n",
              "    fill: var(--button-hover-fill-color);\n",
              "  }\n",
              "\n",
              "  .colab-df-quickchart-complete:disabled,\n",
              "  .colab-df-quickchart-complete:disabled:hover {\n",
              "    background-color: var(--disabled-bg-color);\n",
              "    fill: var(--disabled-fill-color);\n",
              "    box-shadow: none;\n",
              "  }\n",
              "\n",
              "  .colab-df-spinner {\n",
              "    border: 2px solid var(--fill-color);\n",
              "    border-color: transparent;\n",
              "    border-bottom-color: var(--fill-color);\n",
              "    animation:\n",
              "      spin 1s steps(1) infinite;\n",
              "  }\n",
              "\n",
              "  @keyframes spin {\n",
              "    0% {\n",
              "      border-color: transparent;\n",
              "      border-bottom-color: var(--fill-color);\n",
              "      border-left-color: var(--fill-color);\n",
              "    }\n",
              "    20% {\n",
              "      border-color: transparent;\n",
              "      border-left-color: var(--fill-color);\n",
              "      border-top-color: var(--fill-color);\n",
              "    }\n",
              "    30% {\n",
              "      border-color: transparent;\n",
              "      border-left-color: var(--fill-color);\n",
              "      border-top-color: var(--fill-color);\n",
              "      border-right-color: var(--fill-color);\n",
              "    }\n",
              "    40% {\n",
              "      border-color: transparent;\n",
              "      border-right-color: var(--fill-color);\n",
              "      border-top-color: var(--fill-color);\n",
              "    }\n",
              "    60% {\n",
              "      border-color: transparent;\n",
              "      border-right-color: var(--fill-color);\n",
              "    }\n",
              "    80% {\n",
              "      border-color: transparent;\n",
              "      border-right-color: var(--fill-color);\n",
              "      border-bottom-color: var(--fill-color);\n",
              "    }\n",
              "    90% {\n",
              "      border-color: transparent;\n",
              "      border-bottom-color: var(--fill-color);\n",
              "    }\n",
              "  }\n",
              "</style>\n",
              "\n",
              "  <script>\n",
              "    async function quickchart(key) {\n",
              "      const quickchartButtonEl =\n",
              "        document.querySelector('#' + key + ' button');\n",
              "      quickchartButtonEl.disabled = true;  // To prevent multiple clicks.\n",
              "      quickchartButtonEl.classList.add('colab-df-spinner');\n",
              "      try {\n",
              "        const charts = await google.colab.kernel.invokeFunction(\n",
              "            'suggestCharts', [key], {});\n",
              "      } catch (error) {\n",
              "        console.error('Error during call to suggestCharts:', error);\n",
              "      }\n",
              "      quickchartButtonEl.classList.remove('colab-df-spinner');\n",
              "      quickchartButtonEl.classList.add('colab-df-quickchart-complete');\n",
              "    }\n",
              "    (() => {\n",
              "      let quickchartButtonEl =\n",
              "        document.querySelector('#df-eff17ff8-b565-4eee-9156-398cdef34c55 button');\n",
              "      quickchartButtonEl.style.display =\n",
              "        google.colab.kernel.accessAllowed ? 'block' : 'none';\n",
              "    })();\n",
              "  </script>\n",
              "</div>\n",
              "\n",
              "    </div>\n",
              "  </div>\n"
            ],
            "application/vnd.google.colaboratory.intrinsic+json": {
              "type": "dataframe",
              "variable_name": "data",
              "summary": "{\n  \"name\": \"data\",\n  \"rows\": 2700,\n  \"fields\": [\n    {\n      \"column\": \"Unnamed: 0\",\n      \"properties\": {\n        \"dtype\": \"number\",\n        \"std\": 779,\n        \"min\": 0,\n        \"max\": 2699,\n        \"num_unique_values\": 2700,\n        \"samples\": [\n          1339,\n          1222,\n          1106\n        ],\n        \"semantic_type\": \"\",\n        \"description\": \"\"\n      }\n    },\n    {\n      \"column\": \"id\",\n      \"properties\": {\n        \"dtype\": \"string\",\n        \"num_unique_values\": 2700,\n        \"samples\": [\n          \"2de98cf9-3a34-43ce-8523-ed5dc18028d6\",\n          \"62bf6d7f-c690-40fe-bbc3-82a8a31365e9\",\n          \"f3abed4f-0012-432a-b162-6ca5dcc35784\"\n        ],\n        \"semantic_type\": \"\",\n        \"description\": \"\"\n      }\n    },\n    {\n      \"column\": \"text\",\n      \"properties\": {\n        \"dtype\": \"string\",\n        \"num_unique_values\": 2536,\n        \"samples\": [\n          \"\\ud83d\\udc81 Cashwagon - vay online 1-4tr cho l\\u1ea7n vay \\u0111\\u1ea7u ti\\u00ean k t\\u00ednh l\\u00e3i xu\\u1ea5t 10 ng\\u00e0y \\u0111\\u1ea7u\\n\\ud83d\\udc49 \\u00c1p d\\u1ee5ng to\\u00e0n qu\\u1ed1c tr\\u1eeb H\\u1ea3i Ph\\u00f2ng v\\u00e0 Thanh H\\u00f3a cho \\u0111\\u1ed9 tu\\u1ed5i 22-60 c\\u00f3 thu nh\\u1eadp \\u1ed5n \\u0111\\u1ecbnh.\\n\\ud83d\\udcb0 Click v\\u00e0o link \\u0111\\u1ec3 \\u0111\\u0103ng k\\u00ed\\n https://shorten.asia/f48s4c4t\\n\\u23e9 Th\\u1ee7 t\\u1ee5c online \\u0111\\u01a1n gi\\u1ea3n ch\\u1ec9 c\\u1ea7n cmnd, duy\\u1ec7t trong 5p, gi\\u1ea3i ng\\u00e2n trong ng\\u00e0y.\",\n          \"-Vay 20tr tr\\u1ea3 g\\u00f3p 24 th\\u00e1ng ,M\\u1ed7i th\\u00e1ng tr\\u1ea3 t\\u1eeb 1tr, ko ph\\u00ed c\\u01b0\\u1edbc,ko th\\u1ebf ch\\u1ea5p ...\\nCh\\u1ec9 c\\u1ea7n CMT+SIM VIETTEL\\nAi c\\u1ea7n h\\u1ed7 tr\\u1ee3 ib em h\\u1ed7 tr\\u1ee3 mi\\u1ec5n ph\\u00ed\",\n          \"Cao Tu\\u1ea5n V\\u0169  b\\u00e2ng r\\u1eebng enzo h\\u01a1n h\\u1eb3n ti\\u1ec1n capheny m\\u00e0 c\\u0169ng \\u0111\\u00e2u c\\u00f3 b\\u1eaft \\u0111c n\\u00f3 \\u0111\\u00e2u, v\\u00e0o b\\u1eaft n\\u00f3 b\\u1eadt cung t\\u00e0 ma l\\u00ean s\\u1ea5y cho ch\\u1ebft ng\\u01b0\\u1ee3c . N\\u1ebfu k \\u0111\\u00e1nh th\\u00ec c\\u1ea5m \\u0111i \\u0111\\u1eb1ng n\\u00e0y th\\u1ea3 ra 2 v\\u00e1n n\\u00f3 s\\u1ea5y cho\"\n        ],\n        \"semantic_type\": \"\",\n        \"description\": \"\"\n      }\n    },\n    {\n      \"column\": \"label\",\n      \"properties\": {\n        \"dtype\": \"category\",\n        \"num_unique_values\": 12,\n        \"samples\": [\n          \"['harassment', 'sexaully_explixit']\",\n          \"['sexaully_explixit', 'dangerous_content']\",\n          \"['harassment']\"\n        ],\n        \"semantic_type\": \"\",\n        \"description\": \"\"\n      }\n    }\n  ]\n}"
            }
          },
          "metadata": {},
          "execution_count": 10
        }
      ]
    },
    {
      "cell_type": "code",
      "source": [
        "# Tách các nhãn thành các nhãn chính\n",
        "data['label'] = data['label'].apply(lambda x: x.strip(\"[]\").replace(\"'\", \"\").split(\", \"))\n",
        "data['label'] = data['label'].apply(lambda x: [label.strip() for label in x])\n",
        "# Tạo DataFrame mới với mỗi dòng là một nhãn chính\n",
        "data = data.explode('label')\n",
        "counts = data['label'].value_counts()"
      ],
      "metadata": {
        "id": "YUPfhpm3Af95"
      },
      "execution_count": 11,
      "outputs": []
    },
    {
      "cell_type": "code",
      "source": [
        "print(counts)\n",
        "print(data.shape)"
      ],
      "metadata": {
        "colab": {
          "base_uri": "https://localhost:8080/"
        },
        "id": "XUNmZ8Z_6sVR",
        "outputId": "673c771c-9d7c-4326-bc50-60c756df9829"
      },
      "execution_count": 12,
      "outputs": [
        {
          "output_type": "stream",
          "name": "stdout",
          "text": [
            "label\n",
            "normal               1595\n",
            "hate_speech           456\n",
            "dangerous_content     281\n",
            "harassment            236\n",
            "sexaully_explixit     222\n",
            "Name: count, dtype: int64\n",
            "(2790, 4)\n"
          ]
        }
      ]
    },
    {
      "cell_type": "code",
      "source": [
        "# Biểu đồ trực quan\n",
        "import matplotlib.pyplot as plt\n",
        "plt.figure(figsize=(6, 7))\n",
        "plt.pie(counts, labels=counts.index, autopct='%1.1f%%', startangle=140)\n",
        "plt.title('Distribution of Labels')\n",
        "plt.axis('equal')\n",
        "plt.show()"
      ],
      "metadata": {
        "colab": {
          "base_uri": "https://localhost:8080/",
          "height": 598
        },
        "id": "8SIYH0GgELqq",
        "outputId": "3ba61308-57f9-4a3b-89b0-aa6a98de75c0"
      },
      "execution_count": 13,
      "outputs": [
        {
          "output_type": "display_data",
          "data": {
            "text/plain": [
              "<Figure size 600x700 with 1 Axes>"
            ],
            "image/png": "[encoded data removed]"
          },
          "metadata": {}
        }
      ]
    },
    {
      "cell_type": "markdown",
      "source": [
        "Huấn luyện mô hình"
      ],
      "metadata": {
        "id": "pmE1kUF082Fl"
      }
    },
    {
      "cell_type": "code",
      "source": [
        "# Chia dữ liệu thành tập huấn luyện và tập kiểm tra\n",
        "\n",
        "from sklearn.model_selection import train_test_split\n",
        "\n",
        "X_train, X_test, y_train, y_test = train_test_split(data['text'], data['label'], \\\n",
        "                                                    test_size=0.2,random_state=42)"
      ],
      "metadata": {
        "id": "wpdX4MJCedXO"
      },
      "execution_count": 14,
      "outputs": []
    },
    {
      "cell_type": "code",
      "source": [
        "# Vector hóa văn bản sử dụng TF-IDF\n",
        "\n",
        "from sklearn.feature_extraction.text import TfidfVectorizer\n",
        "\n",
        "vectorizer = TfidfVectorizer(max_features=10000, ngram_range=(1, 2))\n",
        "X_train_tfidf = vectorizer.fit_transform(X_train)\n",
        "X_test_tfidf = vectorizer.transform(X_test)"
      ],
      "metadata": {
        "id": "H4qgVWTz88tQ"
      },
      "execution_count": 15,
      "outputs": []
    },
    {
      "cell_type": "code",
      "source": [
        "# Huấn luyện mô hình Logistic Regression\n",
        "from sklearn.linear_model import LogisticRegression\n",
        "\n",
        "lr = LogisticRegression(max_iter=1000)\n",
        "lr.fit(X_train_tfidf, y_train)\n",
        "y_pred_lr = lr.predict(X_test_tfidf)"
      ],
      "metadata": {
        "id": "-WEgxbtQeidT"
      },
      "execution_count": 17,
      "outputs": []
    },
    {
      "cell_type": "code",
      "source": [
        "# Huấn luyện mô hình Naive Bayes\n",
        "\n",
        "from sklearn.naive_bayes import MultinomialNB\n",
        "\n",
        "nb = MultinomialNB()\n",
        "nb.fit(X_train_tfidf, y_train)\n",
        "y_pred_nb = nb.predict(X_test_tfidf)"
      ],
      "metadata": {
        "id": "_9z3ErhVekQ4"
      },
      "execution_count": 18,
      "outputs": []
    },
    {
      "cell_type": "code",
      "source": [
        "# Huấn luyện mô hình Random Forest\n",
        "\n",
        "from sklearn.ensemble import RandomForestClassifier\n",
        "\n",
        "rf = RandomForestClassifier(n_estimators=100, random_state=42)\n",
        "rf.fit(X_train_tfidf, y_train)\n",
        "y_pred_rf = rf.predict(X_test_tfidf)"
      ],
      "metadata": {
        "id": "ZJ-czrdqemAZ"
      },
      "execution_count": 19,
      "outputs": []
    },
    {
      "cell_type": "code",
      "source": [
        "# Huấn luyện mô hình Support Vector Machine\n",
        "\n",
        "from sklearn.svm import SVC\n",
        "\n",
        "svm = SVC(kernel='linear')\n",
        "svm.fit(X_train_tfidf, y_train)\n",
        "y_pred_svm = svm.predict(X_test_tfidf)"
      ],
      "metadata": {
        "id": "ggCX874neoEy"
      },
      "execution_count": 20,
      "outputs": []
    },
    {
      "cell_type": "code",
      "source": [
        "# Huấn luyện mô hình Multilayer Perceptron\n",
        "\n",
        "from sklearn.neural_network import MLPClassifier\n",
        "\n",
        "mlp = MLPClassifier(hidden_layer_sizes=(100,), max_iter=100, \\\n",
        "                    activation='relu', solver='adam', random_state=42)\n",
        "mlp.fit(X_train_tfidf, y_train)\n",
        "y_pred_mlp = mlp.predict(X_test_tfidf)"
      ],
      "metadata": {
        "id": "DbrJlsvDepfB"
      },
      "execution_count": 21,
      "outputs": []
    },
    {
      "cell_type": "markdown",
      "source": [
        "Đánh giá các mô hình"
      ],
      "metadata": {
        "id": "bfhzN2VtPZQN"
      }
    },
    {
      "cell_type": "code",
      "source": [
        "from sklearn.metrics import classification_report\n",
        "\n",
        "# Đánh giá mô hình Logistic Regression\n",
        "print(\"Logistic Regression:\")\n",
        "print(classification_report(y_test, y_pred_lr))\n",
        "\n",
        "# Đánh giá mô hình Naive Bayes\n",
        "print(\"Naive Bayes:\")\n",
        "print(classification_report(y_test, y_pred_nb))\n",
        "\n",
        "# Đánh giá mô hình Random Forest\n",
        "print(\"Random Forest:\")\n",
        "print(classification_report(y_test, y_pred_rf))\n",
        "\n",
        "# Đánh giá mô hình Support Vector Machine\n",
        "print(\"Support Vector Machine:\")\n",
        "print(classification_report(y_test, y_pred_svm))\n",
        "\n",
        "# Đánh giá mô hình Multilayer Perceptron\n",
        "print(\"Multilayer Perceptron:\")\n",
        "print(classification_report(y_test, y_pred_mlp))"
      ],
      "metadata": {
        "colab": {
          "base_uri": "https://localhost:8080/"
        },
        "id": "rv62qzENLZPw",
        "outputId": "5593dba1-cb79-4e7d-d770-31ad32d37ca8"
      },
      "execution_count": 22,
      "outputs": [
        {
          "output_type": "stream",
          "name": "stdout",
          "text": [
            "Logistic Regression:\n",
            "                   precision    recall  f1-score   support\n",
            "\n",
            "dangerous_content       1.00      0.73      0.84        59\n",
            "       harassment       0.71      0.10      0.17        52\n",
            "      hate_speech       0.64      0.61      0.63        83\n",
            "           normal       0.77      0.99      0.87       325\n",
            "sexaully_explixit       0.88      0.18      0.30        39\n",
            "\n",
            "         accuracy                           0.77       558\n",
            "        macro avg       0.80      0.52      0.56       558\n",
            "     weighted avg       0.78      0.77      0.72       558\n",
            "\n",
            "Naive Bayes:\n",
            "                   precision    recall  f1-score   support\n",
            "\n",
            "dangerous_content       1.00      0.71      0.83        59\n",
            "       harassment       0.00      0.00      0.00        52\n",
            "      hate_speech       0.62      0.24      0.35        83\n",
            "           normal       0.68      1.00      0.81       325\n",
            "sexaully_explixit       0.67      0.05      0.10        39\n",
            "\n",
            "         accuracy                           0.70       558\n",
            "        macro avg       0.59      0.40      0.42       558\n",
            "     weighted avg       0.64      0.70      0.62       558\n",
            "\n",
            "Random Forest:\n",
            "                   precision    recall  f1-score   support\n",
            "\n",
            "dangerous_content       1.00      0.78      0.88        59\n",
            "       harassment       0.38      0.12      0.18        52\n",
            "      hate_speech       0.57      0.60      0.59        83\n",
            "           normal       0.82      0.99      0.89       325\n",
            "sexaully_explixit       0.79      0.28      0.42        39\n",
            "\n",
            "         accuracy                           0.78       558\n",
            "        macro avg       0.71      0.55      0.59       558\n",
            "     weighted avg       0.76      0.78      0.75       558\n",
            "\n",
            "Support Vector Machine:\n",
            "                   precision    recall  f1-score   support\n",
            "\n",
            "dangerous_content       1.00      0.81      0.90        59\n",
            "       harassment       0.47      0.17      0.25        52\n",
            "      hate_speech       0.61      0.72      0.66        83\n",
            "           normal       0.84      0.98      0.90       325\n",
            "sexaully_explixit       0.81      0.33      0.47        39\n",
            "\n",
            "         accuracy                           0.80       558\n",
            "        macro avg       0.75      0.60      0.64       558\n",
            "     weighted avg       0.79      0.80      0.78       558\n",
            "\n",
            "Multilayer Perceptron:\n",
            "                   precision    recall  f1-score   support\n",
            "\n",
            "dangerous_content       0.96      0.83      0.89        59\n",
            "       harassment       0.34      0.19      0.25        52\n",
            "      hate_speech       0.59      0.67      0.63        83\n",
            "           normal       0.86      0.93      0.89       325\n",
            "sexaully_explixit       0.58      0.49      0.53        39\n",
            "\n",
            "         accuracy                           0.78       558\n",
            "        macro avg       0.67      0.62      0.64       558\n",
            "     weighted avg       0.76      0.78      0.77       558\n",
            "\n"
          ]
        }
      ]
    },
    {
      "cell_type": "code",
      "source": [
        "import matplotlib.pyplot as plt\n",
        "import numpy as np\n",
        "from sklearn.metrics import accuracy_score, precision_score, recall_score, f1_score\n",
        "\n",
        "# Các mô hình và các metric\n",
        "models = ['Logistic Regression', 'Naive Bayes', 'Random Forest', 'Support Vector Machine', 'Multilayer Perceptron']\n",
        "metrics = ['Accuracy', 'Precision', 'Recall', 'F1-score']\n",
        "\n",
        "# Tính toán các giá trị metric\n",
        "accuracy_scores = [accuracy_score(y_test, y_pred_lr),\n",
        "                   accuracy_score(y_test, y_pred_nb),\n",
        "                   accuracy_score(y_test, y_pred_rf),\n",
        "                   accuracy_score(y_test, y_pred_svm),\n",
        "                   accuracy_score(y_test, y_pred_mlp)]\n",
        "\n",
        "precision_scores = [precision_score(y_test, y_pred_lr, average='weighted', zero_division=0),\n",
        "                    precision_score(y_test, y_pred_nb, average='weighted', zero_division=0),\n",
        "                    precision_score(y_test, y_pred_rf, average='weighted', zero_division=0),\n",
        "                    precision_score(y_test, y_pred_svm, average='weighted', zero_division=0),\n",
        "                    precision_score(y_test, y_pred_mlp, average='weighted', zero_division=0)]\n",
        "\n",
        "recall_scores = [recall_score(y_test, y_pred_lr, average='weighted', zero_division=0),\n",
        "                 recall_score(y_test, y_pred_nb, average='weighted', zero_division=0),\n",
        "                 recall_score(y_test, y_pred_rf, average='weighted', zero_division=0),\n",
        "                 recall_score(y_test, y_pred_svm, average='weighted', zero_division=0),\n",
        "                 recall_score(y_test, y_pred_mlp, average='weighted', zero_division=0)]\n",
        "\n",
        "f1_scores = [f1_score(y_test, y_pred_lr, average='weighted', zero_division=0),\n",
        "             f1_score(y_test, y_pred_nb, average='weighted', zero_division=0),\n",
        "             f1_score(y_test, y_pred_rf, average='weighted', zero_division=0),\n",
        "             f1_score(y_test, y_pred_svm, average='weighted', zero_division=0),\n",
        "             f1_score(y_test, y_pred_mlp, average='weighted', zero_division=0)]\n",
        "\n",
        "# Vẽ biểu đồ\n",
        "plt.figure(figsize=(12, 6))\n",
        "\n",
        "bar_width = 0.2\n",
        "index = np.arange(len(models))\n",
        "\n",
        "plt.bar(index, accuracy_scores, bar_width, label='Accuracy')\n",
        "plt.bar(index + bar_width, precision_scores, bar_width, label='Precision')\n",
        "plt.bar(index + 2*bar_width, recall_scores, bar_width, label='Recall')\n",
        "plt.bar(index + 3*bar_width, f1_scores, bar_width, label='F1-score')\n",
        "\n",
        "plt.xlabel('Models', fontsize=14)\n",
        "plt.ylabel('Scores', fontsize=14)\n",
        "plt.title('Performance Metrics of Classification Models', fontsize=16)\n",
        "plt.xticks(index + 1.5*bar_width, models)\n",
        "plt.legend(loc='upper right')\n",
        "plt.tight_layout()\n",
        "plt.show()"
      ],
      "metadata": {
        "colab": {
          "base_uri": "https://localhost:8080/",
          "height": 607
        },
        "id": "0NocOI3TerF7",
        "outputId": "5e3be046-f3e4-4d5b-e914-c0ae8cae6df2"
      },
      "execution_count": 25,
      "outputs": [
        {
          "output_type": "display_data",
          "data": {
            "text/plain": [
              "<Figure size 1200x600 with 1 Axes>"
            ],
            "image/png": "[encoded data removed]"
          },
          "metadata": {}
        }
      ]
    },
    {
      "cell_type": "markdown",
      "source": [
        "Dự đoán nhãn cho các văn bản mới sử dụng các mô hình đã huấn luyện"
      ],
      "metadata": {
        "id": "KVvyXX5mF2xU"
      }
    },
    {
      "cell_type": "code",
      "source": [
        "# Nhập đoạn văn bản từ người dùng\n",
        "input_text = input(\"Nhập đoạn văn bản: \")\n",
        "\n",
        "# Vector hóa đoạn văn bản đầu vào\n",
        "input_text_tfidf = vectorizer.transform([input_text])\n",
        "\n",
        "# Logistic Regression\n",
        "predicted_label_lr = lr.predict(input_text_tfidf)\n",
        "print(\"Logistic Regression - Predicted label:\", predicted_label_lr)\n",
        "\n",
        "# Naive Bayes\n",
        "predicted_label_nb = nb.predict(input_text_tfidf)\n",
        "print(\"Naive Bayes - Predicted label:\", predicted_label_nb)\n",
        "\n",
        "# Random Forest\n",
        "predicted_label_rf = rf.predict(input_text_tfidf)\n",
        "print(\"Random Forest - Predicted label:\", predicted_label_rf)\n",
        "\n",
        "# Support Vector Machine\n",
        "predicted_label_svm = svm.predict(input_text_tfidf)\n",
        "print(\"Support Vector Machine - Predicted label:\", predicted_label_svm)\n",
        "\n",
        "# Multilayer Perceptron\n",
        "predicted_label_mlp = mlp.predict(input_text_tfidf)\n",
        "print(\"Multilayer Perceptron - Predicted label:\", predicted_label_mlp)"
      ],
      "metadata": {
        "colab": {
          "base_uri": "https://localhost:8080/"
        },
        "id": "oA3zH7bVFNu-",
        "outputId": "ea6716c4-ca27-4d95-96a8-2c4431347f8b"
      },
      "execution_count": 26,
      "outputs": [
        {
          "output_type": "stream",
          "name": "stdout",
          "text": [
            "Nhập đoạn văn bản: đéo\n",
            "Logistic Regression - Predicted label: ['hate_speech']\n",
            "Naive Bayes - Predicted label: ['hate_speech']\n",
            "Random Forest - Predicted label: ['hate_speech']\n",
            "Support Vector Machine - Predicted label: ['hate_speech']\n",
            "Multilayer Perceptron - Predicted label: ['hate_speech']\n"
          ]
        }
      ]
    },
    {
      "cell_type": "markdown",
      "source": [
        "Phân tích khả năng của mỗi mô hình trong việc dự đoán các câu chứa từ ngữ khiêu khích hoặc tiêu cực"
      ],
      "metadata": {
        "id": "XL0C0rJKProL"
      }
    },
    {
      "cell_type": "code",
      "source": [
        "# Dữ liệu test\n",
        "test_data = [\"thằng chó này!\", \"tao đập chết mẹ mày\", \"Bố m lại ỉa vào mồm m\", \"Cái thằng nguu này\"\n",
        ", \"câm mồm!\", \"m bị hâm à!\",\"thang nhai nay nhay vcl\", \"Thằng này thực sự là một tên ngốc!\",\n",
        "\"Đm, mày làm tao tức quá!\", \"Mày không đủ trình độ để nói chuyện với tao.\", \"Chém chết thằng này đi!\",\n",
        "\"Đồ mất dạy!\", \"Mày nghĩ tao sợ mày à?\", \"Đm, mày đúng là thằng ngu!\", \"Mày là thằng thất bại nhất trong số chúng ta!\"\n",
        ", \"Mày cút đi, đừng làm phiền tao!\", \"Mày chỉ là một con lợn!\", \"Nói gì nữa cũng không hiểu, mày quá ngu ngốc!\"\n",
        ", \"Tao ghét mày đến chết!\", \"Đồ mất dạy! Biết xấu hổ không?\"]\n",
        "\n",
        "# Số câu và số câu dự đoán là \"Hate speech\" cho mỗi mô hình\n",
        "total_sentences = len(test_data)\n",
        "hate_speech_count_lr = 0\n",
        "hate_speech_count_nb = 0\n",
        "hate_speech_count_rf = 0\n",
        "hate_speech_count_svm = 0\n",
        "hate_speech_count_mlp = 0\n",
        "\n",
        "# Duyệt qua mỗi câu trong test_data\n",
        "for sentence in test_data:\n",
        "    # Vector hóa câu\n",
        "    sentence_tfidf = vectorizer.transform([sentence])\n",
        "\n",
        "    # Dự đoán nhãn của câu cho mỗi mô hình\n",
        "    predicted_label_lr = lr.predict(sentence_tfidf)\n",
        "    predicted_label_nb = nb.predict(sentence_tfidf)\n",
        "    predicted_label_rf = rf.predict(sentence_tfidf)\n",
        "    predicted_label_svm = svm.predict(sentence_tfidf)\n",
        "    predicted_label_mlp = mlp.predict(sentence_tfidf)\n",
        "\n",
        "    # Nếu câu được dự đoán là \"Hate speech\", tăng biến đếm tương ứng lên 1\n",
        "    if predicted_label_lr[0] == \"hate_speech\":\n",
        "        hate_speech_count_lr += 1\n",
        "    if predicted_label_nb[0] == \"hate_speech\":\n",
        "        hate_speech_count_nb += 1\n",
        "    if predicted_label_rf[0] == \"hate_speech\":\n",
        "        hate_speech_count_rf += 1\n",
        "    if predicted_label_svm[0] == \"hate_speech\":\n",
        "        hate_speech_count_svm += 1\n",
        "    if predicted_label_mlp[0] == \"hate_speech\":\n",
        "        hate_speech_count_mlp += 1\n",
        "\n",
        "# In ra kết quả\n",
        "print(\"Tổng số câu trong dữ liệu test:\", total_sentences)\n",
        "print(\"Số câu được dự đoán là 'Hate speech' (Logistic Regression):\", hate_speech_count_lr)\n",
        "print(\"Số câu được dự đoán là 'Hate speech' (Naive Bayes):\", hate_speech_count_nb)\n",
        "print(\"Số câu được dự đoán là 'Hate speech' (Random Forest):\", hate_speech_count_rf)\n",
        "print(\"Số câu được dự đoán là 'Hate speech' (Support Vector Machine):\", hate_speech_count_svm)\n",
        "print(\"Số câu được dự đoán là 'Hate speech' (Multilayer Perceptron):\", hate_speech_count_mlp)"
      ],
      "metadata": {
        "colab": {
          "base_uri": "https://localhost:8080/"
        },
        "id": "pqmjXocxGDxz",
        "outputId": "384e82fc-fef0-47bf-9e40-e476b636536a"
      },
      "execution_count": 27,
      "outputs": [
        {
          "output_type": "stream",
          "name": "stdout",
          "text": [
            "Tổng số câu trong dữ liệu test: 20\n",
            "Số câu được dự đoán là 'Hate speech' (Logistic Regression): 14\n",
            "Số câu được dự đoán là 'Hate speech' (Naive Bayes): 8\n",
            "Số câu được dự đoán là 'Hate speech' (Random Forest): 8\n",
            "Số câu được dự đoán là 'Hate speech' (Support Vector Machine): 14\n",
            "Số câu được dự đoán là 'Hate speech' (Multilayer Perceptron): 11\n"
          ]
        }
      ]
    }
  ]
}