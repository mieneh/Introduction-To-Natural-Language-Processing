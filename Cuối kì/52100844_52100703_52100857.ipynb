{
  "cells": [
    {
      "cell_type": "markdown",
      "metadata": {
        "id": "zQ_pifBHqpdo"
      },
      "source": [
        "# Câu 1: Tokenizer theo BPE (Byte-Pair Encoding)"
      ]
    },
    {
      "cell_type": "markdown",
      "metadata": {
        "id": "iQl6o7RMrOZJ"
      },
      "source": [
        "## 1. Cài đặt thư viện"
      ]
    },
    {
      "cell_type": "code",
      "execution_count": null,
      "metadata": {
        "id": "VGgpAihOpDrR",
        "colab": {
          "base_uri": "https://localhost:8080/"
        },
        "outputId": "315feefe-390d-47dc-f78d-1c49ae3eeed2"
      },
      "outputs": [
        {
          "output_type": "stream",
          "name": "stderr",
          "text": [
            "[nltk_data] Downloading package stopwords to /root/nltk_data...\n",
            "[nltk_data]   Package stopwords is already up-to-date!\n",
            "[nltk_data] Downloading package punkt to /root/nltk_data...\n",
            "[nltk_data]   Package punkt is already up-to-date!\n"
          ]
        },
        {
          "output_type": "execute_result",
          "data": {
            "text/plain": [
              "True"
            ]
          },
          "metadata": {},
          "execution_count": 50
        }
      ],
      "source": [
        "import pandas as pd\n",
        "import numpy as np\n",
        "import matplotlib.pyplot as plt\n",
        "from sklearn.model_selection import train_test_split\n",
        "from tensorflow.keras.preprocessing.text import Tokenizer\n",
        "from tensorflow.keras.preprocessing.sequence import pad_sequences\n",
        "from tensorflow.keras.layers import Embedding, LSTM, Dense\n",
        "from tensorflow.keras.models import Sequential\n",
        "from tensorflow.keras.utils import to_categorical\n",
        "from sklearn.metrics import accuracy_score, precision_score, recall_score, f1_score, classification_report\n",
        "import spacy\n",
        "from nltk.corpus import stopwords\n",
        "from nltk.tokenize import word_tokenize\n",
        "from tqdm import tqdm\n",
        "import re\n",
        "from bs4 import BeautifulSoup\n",
        "import nltk\n",
        "from sklearn.feature_extraction.text import TfidfVectorizer\n",
        "from sklearn.svm import SVC\n",
        "from sklearn.model_selection import GridSearchCV\n",
        "from gensim.models import Word2Vec, KeyedVectors\n",
        "from transformers import BertTokenizer, BertForSequenceClassification\n",
        "import torch\n",
        "\n",
        "# Cài đặt spaCy và tải mô hình ngôn ngữ tiếng Anh\n",
        "nlp = spacy.load('en_core_web_sm')\n",
        "nltk.download('stopwords')\n",
        "nltk.download('punkt')"
      ]
    },
    {
      "cell_type": "markdown",
      "metadata": {
        "id": "9WMMmJ_mrUV6"
      },
      "source": [
        "## 2. Tiền xử lý dữ liệu"
      ]
    },
    {
      "cell_type": "code",
      "execution_count": null,
      "metadata": {
        "colab": {
          "base_uri": "https://localhost:8080/",
          "height": 440
        },
        "id": "auXFY5IdvY50",
        "outputId": "41218715-6e42-4053-8fab-bd722fa4e461"
      },
      "outputs": [
        {
          "output_type": "stream",
          "name": "stdout",
          "text": [
            "Requirement already satisfied: kaggle in /usr/local/lib/python3.10/dist-packages (1.6.12)\n",
            "Requirement already satisfied: six>=1.10 in /usr/local/lib/python3.10/dist-packages (from kaggle) (1.16.0)\n",
            "Requirement already satisfied: certifi>=2023.7.22 in /usr/local/lib/python3.10/dist-packages (from kaggle) (2024.2.2)\n",
            "Requirement already satisfied: python-dateutil in /usr/local/lib/python3.10/dist-packages (from kaggle) (2.8.2)\n",
            "Requirement already satisfied: requests in /usr/local/lib/python3.10/dist-packages (from kaggle) (2.31.0)\n",
            "Requirement already satisfied: tqdm in /usr/local/lib/python3.10/dist-packages (from kaggle) (4.66.4)\n",
            "Requirement already satisfied: python-slugify in /usr/local/lib/python3.10/dist-packages (from kaggle) (8.0.4)\n",
            "Requirement already satisfied: urllib3 in /usr/local/lib/python3.10/dist-packages (from kaggle) (2.0.7)\n",
            "Requirement already satisfied: bleach in /usr/local/lib/python3.10/dist-packages (from kaggle) (6.1.0)\n",
            "Requirement already satisfied: webencodings in /usr/local/lib/python3.10/dist-packages (from bleach->kaggle) (0.5.1)\n",
            "Requirement already satisfied: text-unidecode>=1.3 in /usr/local/lib/python3.10/dist-packages (from python-slugify->kaggle) (1.3)\n",
            "Requirement already satisfied: charset-normalizer<4,>=2 in /usr/local/lib/python3.10/dist-packages (from requests->kaggle) (3.3.2)\n",
            "Requirement already satisfied: idna<4,>=2.5 in /usr/local/lib/python3.10/dist-packages (from requests->kaggle) (3.7)\n"
          ]
        },
        {
          "output_type": "display_data",
          "data": {
            "text/plain": [
              "<IPython.core.display.HTML object>"
            ],
            "text/html": [
              "\n",
              "     <input type=\"file\" id=\"files-8e44af68-f8c0-4766-b183-2019b813994c\" name=\"files[]\" multiple disabled\n",
              "        style=\"border:none\" />\n",
              "     <output id=\"result-8e44af68-f8c0-4766-b183-2019b813994c\">\n",
              "      Upload widget is only available when the cell has been executed in the\n",
              "      current browser session. Please rerun this cell to enable.\n",
              "      </output>\n",
              "      <script>// Copyright 2017 Google LLC\n",
              "//\n",
              "// Licensed under the Apache License, Version 2.0 (the \"License\");\n",
              "// you may not use this file except in compliance with the License.\n",
              "// You may obtain a copy of the License at\n",
              "//\n",
              "//      http://www.apache.org/licenses/LICENSE-2.0\n",
              "//\n",
              "// Unless required by applicable law or agreed to in writing, software\n",
              "// distributed under the License is distributed on an \"AS IS\" BASIS,\n",
              "// WITHOUT WARRANTIES OR CONDITIONS OF ANY KIND, either express or implied.\n",
              "// See the License for the specific language governing permissions and\n",
              "// limitations under the License.\n",
              "\n",
              "/**\n",
              " * @fileoverview Helpers for google.colab Python module.\n",
              " */\n",
              "(function(scope) {\n",
              "function span(text, styleAttributes = {}) {\n",
              "  const element = document.createElement('span');\n",
              "  element.textContent = text;\n",
              "  for (const key of Object.keys(styleAttributes)) {\n",
              "    element.style[key] = styleAttributes[key];\n",
              "  }\n",
              "  return element;\n",
              "}\n",
              "\n",
              "// Max number of bytes which will be uploaded at a time.\n",
              "const MAX_PAYLOAD_SIZE = 100 * 1024;\n",
              "\n",
              "function _uploadFiles(inputId, outputId) {\n",
              "  const steps = uploadFilesStep(inputId, outputId);\n",
              "  const outputElement = document.getElementById(outputId);\n",
              "  // Cache steps on the outputElement to make it available for the next call\n",
              "  // to uploadFilesContinue from Python.\n",
              "  outputElement.steps = steps;\n",
              "\n",
              "  return _uploadFilesContinue(outputId);\n",
              "}\n",
              "\n",
              "// This is roughly an async generator (not supported in the browser yet),\n",
              "// where there are multiple asynchronous steps and the Python side is going\n",
              "// to poll for completion of each step.\n",
              "// This uses a Promise to block the python side on completion of each step,\n",
              "// then passes the result of the previous step as the input to the next step.\n",
              "function _uploadFilesContinue(outputId) {\n",
              "  const outputElement = document.getElementById(outputId);\n",
              "  const steps = outputElement.steps;\n",
              "\n",
              "  const next = steps.next(outputElement.lastPromiseValue);\n",
              "  return Promise.resolve(next.value.promise).then((value) => {\n",
              "    // Cache the last promise value to make it available to the next\n",
              "    // step of the generator.\n",
              "    outputElement.lastPromiseValue = value;\n",
              "    return next.value.response;\n",
              "  });\n",
              "}\n",
              "\n",
              "/**\n",
              " * Generator function which is called between each async step of the upload\n",
              " * process.\n",
              " * @param {string} inputId Element ID of the input file picker element.\n",
              " * @param {string} outputId Element ID of the output display.\n",
              " * @return {!Iterable<!Object>} Iterable of next steps.\n",
              " */\n",
              "function* uploadFilesStep(inputId, outputId) {\n",
              "  const inputElement = document.getElementById(inputId);\n",
              "  inputElement.disabled = false;\n",
              "\n",
              "  const outputElement = document.getElementById(outputId);\n",
              "  outputElement.innerHTML = '';\n",
              "\n",
              "  const pickedPromise = new Promise((resolve) => {\n",
              "    inputElement.addEventListener('change', (e) => {\n",
              "      resolve(e.target.files);\n",
              "    });\n",
              "  });\n",
              "\n",
              "  const cancel = document.createElement('button');\n",
              "  inputElement.parentElement.appendChild(cancel);\n",
              "  cancel.textContent = 'Cancel upload';\n",
              "  const cancelPromise = new Promise((resolve) => {\n",
              "    cancel.onclick = () => {\n",
              "      resolve(null);\n",
              "    };\n",
              "  });\n",
              "\n",
              "  // Wait for the user to pick the files.\n",
              "  const files = yield {\n",
              "    promise: Promise.race([pickedPromise, cancelPromise]),\n",
              "    response: {\n",
              "      action: 'starting',\n",
              "    }\n",
              "  };\n",
              "\n",
              "  cancel.remove();\n",
              "\n",
              "  // Disable the input element since further picks are not allowed.\n",
              "  inputElement.disabled = true;\n",
              "\n",
              "  if (!files) {\n",
              "    return {\n",
              "      response: {\n",
              "        action: 'complete',\n",
              "      }\n",
              "    };\n",
              "  }\n",
              "\n",
              "  for (const file of files) {\n",
              "    const li = document.createElement('li');\n",
              "    li.append(span(file.name, {fontWeight: 'bold'}));\n",
              "    li.append(span(\n",
              "        `(${file.type || 'n/a'}) - ${file.size} bytes, ` +\n",
              "        `last modified: ${\n",
              "            file.lastModifiedDate ? file.lastModifiedDate.toLocaleDateString() :\n",
              "                                    'n/a'} - `));\n",
              "    const percent = span('0% done');\n",
              "    li.appendChild(percent);\n",
              "\n",
              "    outputElement.appendChild(li);\n",
              "\n",
              "    const fileDataPromise = new Promise((resolve) => {\n",
              "      const reader = new FileReader();\n",
              "      reader.onload = (e) => {\n",
              "        resolve(e.target.result);\n",
              "      };\n",
              "      reader.readAsArrayBuffer(file);\n",
              "    });\n",
              "    // Wait for the data to be ready.\n",
              "    let fileData = yield {\n",
              "      promise: fileDataPromise,\n",
              "      response: {\n",
              "        action: 'continue',\n",
              "      }\n",
              "    };\n",
              "\n",
              "    // Use a chunked sending to avoid message size limits. See b/62115660.\n",
              "    let position = 0;\n",
              "    do {\n",
              "      const length = Math.min(fileData.byteLength - position, MAX_PAYLOAD_SIZE);\n",
              "      const chunk = new Uint8Array(fileData, position, length);\n",
              "      position += length;\n",
              "\n",
              "      const base64 = btoa(String.fromCharCode.apply(null, chunk));\n",
              "      yield {\n",
              "        response: {\n",
              "          action: 'append',\n",
              "          file: file.name,\n",
              "          data: base64,\n",
              "        },\n",
              "      };\n",
              "\n",
              "      let percentDone = fileData.byteLength === 0 ?\n",
              "          100 :\n",
              "          Math.round((position / fileData.byteLength) * 100);\n",
              "      percent.textContent = `${percentDone}% done`;\n",
              "\n",
              "    } while (position < fileData.byteLength);\n",
              "  }\n",
              "\n",
              "  // All done.\n",
              "  yield {\n",
              "    response: {\n",
              "      action: 'complete',\n",
              "    }\n",
              "  };\n",
              "}\n",
              "\n",
              "scope.google = scope.google || {};\n",
              "scope.google.colab = scope.google.colab || {};\n",
              "scope.google.colab._files = {\n",
              "  _uploadFiles,\n",
              "  _uploadFilesContinue,\n",
              "};\n",
              "})(self);\n",
              "</script> "
            ]
          },
          "metadata": {}
        },
        {
          "output_type": "stream",
          "name": "stdout",
          "text": [
            "Saving kaggle.json to kaggle.json\n",
            "Dataset URL: https://www.kaggle.com/datasets/lakshmi25npathi/imdb-dataset-of-50k-movie-reviews\n",
            "License(s): other\n",
            "Downloading imdb-dataset-of-50k-movie-reviews.zip to /content\n",
            " 78% 20.0M/25.7M [00:00<00:00, 86.4MB/s]\n",
            "100% 25.7M/25.7M [00:00<00:00, 84.1MB/s]\n",
            "Archive:  imdb-dataset-of-50k-movie-reviews.zip\n",
            "  inflating: IMDB Dataset.csv        \n"
          ]
        }
      ],
      "source": [
        "# Cài đặt thư viện Kaggle\n",
        "!pip install kaggle\n",
        "# Tải lên tệp kaggle.json của bạn chứa thông tin xác thực API\n",
        "from google.colab import files\n",
        "files.upload()\n",
        "# Di chuyển tệp đã tải lên vào thư mục cần thiết\n",
        "!mkdir -p ~/.kaggle\n",
        "!mv kaggle.json ~/.kaggle/\n",
        "# Thiết lập quyền truy cập\n",
        "!chmod 600 ~/.kaggle/kaggle.json\n",
        "# Bây giờ bạn có thể tải tập dữ liệu bằng lệnh API Kaggle\n",
        "!kaggle datasets download -d lakshmi25npathi/imdb-dataset-of-50k-movie-reviews\n",
        "# Giải nén tập dữ liệu\n",
        "!unzip imdb-dataset-of-50k-movie-reviews.zip"
      ]
    },
    {
      "cell_type": "code",
      "execution_count": null,
      "metadata": {
        "colab": {
          "base_uri": "https://localhost:8080/",
          "height": 206
        },
        "id": "PB_IkO5iuWGe",
        "outputId": "4a7b07c0-ca7d-4059-ea64-3ab56fe298f7"
      },
      "outputs": [
        {
          "output_type": "execute_result",
          "data": {
            "text/plain": [
              "                                              review sentiment\n",
              "0  One of the other reviewers has mentioned that ...  positive\n",
              "1  A wonderful little production. <br /><br />The...  positive\n",
              "2  I thought this was a wonderful way to spend ti...  positive\n",
              "3  Basically there's a family where a little boy ...  negative\n",
              "4  Petter Mattei's \"Love in the Time of Money\" is...  positive"
            ],
            "text/html": [
              "\n",
              "  <div id=\"df-d61f6b8f-d78a-4137-9afd-b14943e56b5e\" class=\"colab-df-container\">\n",
              "    <div>\n",
              "<style scoped>\n",
              "    .dataframe tbody tr th:only-of-type {\n",
              "        vertical-align: middle;\n",
              "    }\n",
              "\n",
              "    .dataframe tbody tr th {\n",
              "        vertical-align: top;\n",
              "    }\n",
              "\n",
              "    .dataframe thead th {\n",
              "        text-align: right;\n",
              "    }\n",
              "</style>\n",
              "<table border=\"1\" class=\"dataframe\">\n",
              "  <thead>\n",
              "    <tr style=\"text-align: right;\">\n",
              "      <th></th>\n",
              "      <th>review</th>\n",
              "      <th>sentiment</th>\n",
              "    </tr>\n",
              "  </thead>\n",
              "  <tbody>\n",
              "    <tr>\n",
              "      <th>0</th>\n",
              "      <td>One of the other reviewers has mentioned that ...</td>\n",
              "      <td>positive</td>\n",
              "    </tr>\n",
              "    <tr>\n",
              "      <th>1</th>\n",
              "      <td>A wonderful little production. &lt;br /&gt;&lt;br /&gt;The...</td>\n",
              "      <td>positive</td>\n",
              "    </tr>\n",
              "    <tr>\n",
              "      <th>2</th>\n",
              "      <td>I thought this was a wonderful way to spend ti...</td>\n",
              "      <td>positive</td>\n",
              "    </tr>\n",
              "    <tr>\n",
              "      <th>3</th>\n",
              "      <td>Basically there's a family where a little boy ...</td>\n",
              "      <td>negative</td>\n",
              "    </tr>\n",
              "    <tr>\n",
              "      <th>4</th>\n",
              "      <td>Petter Mattei's \"Love in the Time of Money\" is...</td>\n",
              "      <td>positive</td>\n",
              "    </tr>\n",
              "  </tbody>\n",
              "</table>\n",
              "</div>\n",
              "    <div class=\"colab-df-buttons\">\n",
              "\n",
              "  <div class=\"colab-df-container\">\n",
              "    <button class=\"colab-df-convert\" onclick=\"convertToInteractive('df-d61f6b8f-d78a-4137-9afd-b14943e56b5e')\"\n",
              "            title=\"Convert this dataframe to an interactive table.\"\n",
              "            style=\"display:none;\">\n",
              "\n",
              "  <svg xmlns=\"http://www.w3.org/2000/svg\" height=\"24px\" viewBox=\"0 -960 960 960\">\n",
              "    <path d=\"M120-120v-720h720v720H120Zm60-500h600v-160H180v160Zm220 220h160v-160H400v160Zm0 220h160v-160H400v160ZM180-400h160v-160H180v160Zm440 0h160v-160H620v160ZM180-180h160v-160H180v160Zm440 0h160v-160H620v160Z\"/>\n",
              "  </svg>\n",
              "    </button>\n",
              "\n",
              "  <style>\n",
              "    .colab-df-container {\n",
              "      display:flex;\n",
              "      gap: 12px;\n",
              "    }\n",
              "\n",
              "    .colab-df-convert {\n",
              "      background-color: #E8F0FE;\n",
              "      border: none;\n",
              "      border-radius: 50%;\n",
              "      cursor: pointer;\n",
              "      display: none;\n",
              "      fill: #1967D2;\n",
              "      height: 32px;\n",
              "      padding: 0 0 0 0;\n",
              "      width: 32px;\n",
              "    }\n",
              "\n",
              "    .colab-df-convert:hover {\n",
              "      background-color: #E2EBFA;\n",
              "      box-shadow: 0px 1px 2px rgba(60, 64, 67, 0.3), 0px 1px 3px 1px rgba(60, 64, 67, 0.15);\n",
              "      fill: #174EA6;\n",
              "    }\n",
              "\n",
              "    .colab-df-buttons div {\n",
              "      margin-bottom: 4px;\n",
              "    }\n",
              "\n",
              "    [theme=dark] .colab-df-convert {\n",
              "      background-color: #3B4455;\n",
              "      fill: #D2E3FC;\n",
              "    }\n",
              "\n",
              "    [theme=dark] .colab-df-convert:hover {\n",
              "      background-color: #434B5C;\n",
              "      box-shadow: 0px 1px 3px 1px rgba(0, 0, 0, 0.15);\n",
              "      filter: drop-shadow(0px 1px 2px rgba(0, 0, 0, 0.3));\n",
              "      fill: #FFFFFF;\n",
              "    }\n",
              "  </style>\n",
              "\n",
              "    <script>\n",
              "      const buttonEl =\n",
              "        document.querySelector('#df-d61f6b8f-d78a-4137-9afd-b14943e56b5e button.colab-df-convert');\n",
              "      buttonEl.style.display =\n",
              "        google.colab.kernel.accessAllowed ? 'block' : 'none';\n",
              "\n",
              "      async function convertToInteractive(key) {\n",
              "        const element = document.querySelector('#df-d61f6b8f-d78a-4137-9afd-b14943e56b5e');\n",
              "        const dataTable =\n",
              "          await google.colab.kernel.invokeFunction('convertToInteractive',\n",
              "                                                    [key], {});\n",
              "        if (!dataTable) return;\n",
              "\n",
              "        const docLinkHtml = 'Like what you see? Visit the ' +\n",
              "          '<a target=\"_blank\" href=https://colab.research.google.com/notebooks/data_table.ipynb>data table notebook</a>'\n",
              "          + ' to learn more about interactive tables.';\n",
              "        element.innerHTML = '';\n",
              "        dataTable['output_type'] = 'display_data';\n",
              "        await google.colab.output.renderOutput(dataTable, element);\n",
              "        const docLink = document.createElement('div');\n",
              "        docLink.innerHTML = docLinkHtml;\n",
              "        element.appendChild(docLink);\n",
              "      }\n",
              "    </script>\n",
              "  </div>\n",
              "\n",
              "\n",
              "<div id=\"df-a12856e4-9a56-4b43-925c-ebeebb2abcdb\">\n",
              "  <button class=\"colab-df-quickchart\" onclick=\"quickchart('df-a12856e4-9a56-4b43-925c-ebeebb2abcdb')\"\n",
              "            title=\"Suggest charts\"\n",
              "            style=\"display:none;\">\n",
              "\n",
              "<svg xmlns=\"http://www.w3.org/2000/svg\" height=\"24px\"viewBox=\"0 0 24 24\"\n",
              "     width=\"24px\">\n",
              "    <g>\n",
              "        <path d=\"M19 3H5c-1.1 0-2 .9-2 2v14c0 1.1.9 2 2 2h14c1.1 0 2-.9 2-2V5c0-1.1-.9-2-2-2zM9 17H7v-7h2v7zm4 0h-2V7h2v10zm4 0h-2v-4h2v4z\"/>\n",
              "    </g>\n",
              "</svg>\n",
              "  </button>\n",
              "\n",
              "<style>\n",
              "  .colab-df-quickchart {\n",
              "      --bg-color: #E8F0FE;\n",
              "      --fill-color: #1967D2;\n",
              "      --hover-bg-color: #E2EBFA;\n",
              "      --hover-fill-color: #174EA6;\n",
              "      --disabled-fill-color: #AAA;\n",
              "      --disabled-bg-color: #DDD;\n",
              "  }\n",
              "\n",
              "  [theme=dark] .colab-df-quickchart {\n",
              "      --bg-color: #3B4455;\n",
              "      --fill-color: #D2E3FC;\n",
              "      --hover-bg-color: #434B5C;\n",
              "      --hover-fill-color: #FFFFFF;\n",
              "      --disabled-bg-color: #3B4455;\n",
              "      --disabled-fill-color: #666;\n",
              "  }\n",
              "\n",
              "  .colab-df-quickchart {\n",
              "    background-color: var(--bg-color);\n",
              "    border: none;\n",
              "    border-radius: 50%;\n",
              "    cursor: pointer;\n",
              "    display: none;\n",
              "    fill: var(--fill-color);\n",
              "    height: 32px;\n",
              "    padding: 0;\n",
              "    width: 32px;\n",
              "  }\n",
              "\n",
              "  .colab-df-quickchart:hover {\n",
              "    background-color: var(--hover-bg-color);\n",
              "    box-shadow: 0 1px 2px rgba(60, 64, 67, 0.3), 0 1px 3px 1px rgba(60, 64, 67, 0.15);\n",
              "    fill: var(--button-hover-fill-color);\n",
              "  }\n",
              "\n",
              "  .colab-df-quickchart-complete:disabled,\n",
              "  .colab-df-quickchart-complete:disabled:hover {\n",
              "    background-color: var(--disabled-bg-color);\n",
              "    fill: var(--disabled-fill-color);\n",
              "    box-shadow: none;\n",
              "  }\n",
              "\n",
              "  .colab-df-spinner {\n",
              "    border: 2px solid var(--fill-color);\n",
              "    border-color: transparent;\n",
              "    border-bottom-color: var(--fill-color);\n",
              "    animation:\n",
              "      spin 1s steps(1) infinite;\n",
              "  }\n",
              "\n",
              "  @keyframes spin {\n",
              "    0% {\n",
              "      border-color: transparent;\n",
              "      border-bottom-color: var(--fill-color);\n",
              "      border-left-color: var(--fill-color);\n",
              "    }\n",
              "    20% {\n",
              "      border-color: transparent;\n",
              "      border-left-color: var(--fill-color);\n",
              "      border-top-color: var(--fill-color);\n",
              "    }\n",
              "    30% {\n",
              "      border-color: transparent;\n",
              "      border-left-color: var(--fill-color);\n",
              "      border-top-color: var(--fill-color);\n",
              "      border-right-color: var(--fill-color);\n",
              "    }\n",
              "    40% {\n",
              "      border-color: transparent;\n",
              "      border-right-color: var(--fill-color);\n",
              "      border-top-color: var(--fill-color);\n",
              "    }\n",
              "    60% {\n",
              "      border-color: transparent;\n",
              "      border-right-color: var(--fill-color);\n",
              "    }\n",
              "    80% {\n",
              "      border-color: transparent;\n",
              "      border-right-color: var(--fill-color);\n",
              "      border-bottom-color: var(--fill-color);\n",
              "    }\n",
              "    90% {\n",
              "      border-color: transparent;\n",
              "      border-bottom-color: var(--fill-color);\n",
              "    }\n",
              "  }\n",
              "</style>\n",
              "\n",
              "  <script>\n",
              "    async function quickchart(key) {\n",
              "      const quickchartButtonEl =\n",
              "        document.querySelector('#' + key + ' button');\n",
              "      quickchartButtonEl.disabled = true;  // To prevent multiple clicks.\n",
              "      quickchartButtonEl.classList.add('colab-df-spinner');\n",
              "      try {\n",
              "        const charts = await google.colab.kernel.invokeFunction(\n",
              "            'suggestCharts', [key], {});\n",
              "      } catch (error) {\n",
              "        console.error('Error during call to suggestCharts:', error);\n",
              "      }\n",
              "      quickchartButtonEl.classList.remove('colab-df-spinner');\n",
              "      quickchartButtonEl.classList.add('colab-df-quickchart-complete');\n",
              "    }\n",
              "    (() => {\n",
              "      let quickchartButtonEl =\n",
              "        document.querySelector('#df-a12856e4-9a56-4b43-925c-ebeebb2abcdb button');\n",
              "      quickchartButtonEl.style.display =\n",
              "        google.colab.kernel.accessAllowed ? 'block' : 'none';\n",
              "    })();\n",
              "  </script>\n",
              "</div>\n",
              "\n",
              "    </div>\n",
              "  </div>\n"
            ],
            "application/vnd.google.colaboratory.intrinsic+json": {
              "type": "dataframe",
              "variable_name": "df",
              "summary": "{\n  \"name\": \"df\",\n  \"rows\": 50000,\n  \"fields\": [\n    {\n      \"column\": \"review\",\n      \"properties\": {\n        \"dtype\": \"string\",\n        \"num_unique_values\": 49582,\n        \"samples\": [\n          \"\\\"Soul Plane\\\" is a horrible attempt at comedy that only should appeal people with thick skulls, bloodshot eyes and furry pawns. <br /><br />The plot is not only incoherent but also non-existent, acting is mostly sub sub-par with a gang of highly moronic and dreadful characters thrown in for bad measure, jokes are often spotted miles ahead and almost never even a bit amusing. This movie lacks any structure and is full of racial stereotypes that must have seemed old even in the fifties, the only thing it really has going for it is some pretty ladies, but really, if you want that you can rent something from the \\\"Adult\\\" section. OK?<br /><br />I can hardly see anything here to recommend since you'll probably have a lot a better and productive time chasing rats with a sledgehammer or inventing waterproof teabags or whatever.<br /><br />2/10\",\n          \"Guest from the Future tells a fascinating story of time travel, friendship, battle of good and evil -- all with a small budget, child actors, and few special effects. Something for Spielberg and Lucas to learn from. ;) A sixth-grader Kolya \\\"Nick\\\" Gerasimov finds a time machine in the basement of a decrepit building and travels 100 years into the future. He discovers a near-perfect, utopian society where robots play guitars and write poetry, everyone is kind to each other and people enjoy everything technology has to offer. Alice is the daughter of a prominent scientist who invented a device called Mielophone that allows to read minds of humans and animals. The device can be put to both good and bad use, depending on whose hands it falls into. When two evil space pirates from Saturn who want to rule the universe attempt to steal Mielophone, it falls into the hands of 20th century school boy Nick. With the pirates hot on his tracks, he travels back to his time, followed by the pirates, and Alice. Chaos, confusion and funny situations follow as the luckless pirates try to blend in with the earthlings. Alice enrolls in the same school Nick goes to and demonstrates superhuman abilities in PE class. The catch is, Alice doesn't know what Nick looks like, while the pirates do. Also, the pirates are able to change their appearance and turn literally into anyone. (Hmm, I wonder if this is where James Cameron got the idea for Terminator...) Who gets to Nick -- and Mielophone -- first? Excellent plot, non-stop adventures, and great soundtrack. I wish Hollywood made kid movies like this one...\",\n          \"\\\"National Treasure\\\" (2004) is a thoroughly misguided hodge-podge of plot entanglements that borrow from nearly every cloak and dagger government conspiracy clich\\u00e9 that has ever been written. The film stars Nicholas Cage as Benjamin Franklin Gates (how precious is that, I ask you?); a seemingly normal fellow who, for no other reason than being of a lineage of like-minded misguided fortune hunters, decides to steal a 'national treasure' that has been hidden by the United States founding fathers. After a bit of subtext and background that plays laughably (unintentionally) like Indiana Jones meets The Patriot, the film degenerates into one misguided whimsy after another \\u0096 attempting to create a 'Stanley Goodspeed' regurgitation of Nicholas Cage and launch the whole convoluted mess forward with a series of high octane, but disconnected misadventures.<br /><br />The relevancy and logic to having George Washington and his motley crew of patriots burying a king's ransom someplace on native soil, and then, going through the meticulous plan of leaving clues scattered throughout U.S. currency art work, is something that director Jon Turteltaub never quite gets around to explaining. Couldn't Washington found better usage for such wealth during the start up of the country? Hence, we are left with a mystery built on top of an enigma that is already on shaky ground by the time Ben appoints himself the new custodian of this untold wealth. Ben's intentions are noble \\u0096 if confusing. He's set on protecting the treasure. For who and when?\\u0085your guess is as good as mine.<br /><br />But there are a few problems with Ben's crusade. First up, his friend, Ian Holmes (Sean Bean) decides that he can't wait for Ben to make up his mind about stealing the Declaration of Independence from the National Archives (oh, yeah \\u0096 brilliant idea!). Presumably, the back of that famous document holds the secret answer to the ultimate fortune. So Ian tries to kill Ben. The assassination attempt is, of course, unsuccessful, if overly melodramatic. It also affords Ben the opportunity to pick up, and pick on, the very sultry curator of the archives, Abigail Chase (Diane Kruger). She thinks Ben is clearly a nut \\u0096 at least at the beginning. But true to action/romance form, Abby's resolve melts quicker than you can say, \\\"is that the Hope Diamond?\\\" The film moves into full X-File-ish mode, as the FBI, mistakenly believing that Ben is behind the theft, retaliate in various benign ways that lead to a multi-layering of action sequences reminiscent of Mission Impossible meets The Fugitive. Honestly, don't those guys ever get 'intelligence' information that is correct? In the final analysis, \\\"National Treasure\\\" isn't great film making, so much as it's a patchwork rehash of tired old bits from other movies, woven together from scraps, the likes of which would make IL' Betsy Ross blush.<br /><br />The Buena Vista DVD delivers a far more generous treatment than this film is deserving of. The anamorphic widescreen picture exhibits a very smooth and finely detailed image with very rich colors, natural flesh tones, solid blacks and clean whites. The stylized image is also free of blemishes and digital enhancements. The audio is 5.1 and delivers a nice sonic boom to your side and rear speakers with intensity and realism. Extras include a host of promotional junket material that is rather deep and over the top in its explanation of how and why this film was made. If only, as an audience, we had had more clarification as to why Ben and co. were chasing after an illusive treasure, this might have been one good flick. Extras conclude with the theatrical trailer, audio commentary and deleted scenes. Not for the faint-hearted \\u0096 just the thick-headed.\"\n        ],\n        \"semantic_type\": \"\",\n        \"description\": \"\"\n      }\n    },\n    {\n      \"column\": \"sentiment\",\n      \"properties\": {\n        \"dtype\": \"category\",\n        \"num_unique_values\": 2,\n        \"samples\": [\n          \"negative\",\n          \"positive\"\n        ],\n        \"semantic_type\": \"\",\n        \"description\": \"\"\n      }\n    }\n  ]\n}"
            }
          },
          "metadata": {},
          "execution_count": 46
        }
      ],
      "source": [
        "# Tải tập dữ liệu từ Kaggle\n",
        "df = pd.read_csv(\"/content/IMDB Dataset.csv\")\n",
        "df.head()"
      ]
    },
    {
      "cell_type": "code",
      "execution_count": null,
      "metadata": {
        "colab": {
          "base_uri": "https://localhost:8080/"
        },
        "id": "f6PVmLeozbl3",
        "outputId": "bee40abd-608b-48c3-d6cf-f65fae0e9341"
      },
      "outputs": [
        {
          "output_type": "execute_result",
          "data": {
            "text/plain": [
              "sentiment\n",
              "positive    25000\n",
              "negative    25000\n",
              "Name: count, dtype: int64"
            ]
          },
          "metadata": {},
          "execution_count": 47
        }
      ],
      "source": [
        "# In số lượng mẫu của từng nhãn\n",
        "df['sentiment'].value_counts()"
      ]
    },
    {
      "cell_type": "code",
      "execution_count": null,
      "metadata": {
        "colab": {
          "base_uri": "https://localhost:8080/"
        },
        "id": "5SsZgCf5KSLf",
        "outputId": "5e865058-c858-4285-dbd8-745ee3135dc3"
      },
      "outputs": [
        {
          "output_type": "execute_result",
          "data": {
            "text/plain": [
              "sentiment\n",
              "positive    501\n",
              "negative    499\n",
              "Name: count, dtype: int64"
            ]
          },
          "metadata": {},
          "execution_count": 48
        }
      ],
      "source": [
        "# Lấy một phần của dữ liệu để xử lý\n",
        "data = df.head(1000)\n",
        "data[\"sentiment\"].value_counts()"
      ]
    },
    {
      "cell_type": "code",
      "execution_count": null,
      "metadata": {
        "colab": {
          "base_uri": "https://localhost:8080/",
          "height": 206
        },
        "id": "23w3LLiaUEeW",
        "outputId": "f1b2846e-311e-451b-b7b6-751e821106b5"
      },
      "outputs": [
        {
          "output_type": "execute_result",
          "data": {
            "text/plain": [
              "                                              review sentiment\n",
              "0  one reviewers mentioned watching oz episode ho...  positive\n",
              "1  wonderful little production br br filming tech...  positive\n",
              "2  thought wonderful way spend time hot summer we...  positive\n",
              "3  basically family little boy jake thinks zombie...  negative\n",
              "4  petter mattei love time money visually stunnin...  positive"
            ],
            "text/html": [
              "\n",
              "  <div id=\"df-3e886056-586e-4cda-bf2c-9516da9d97fb\" class=\"colab-df-container\">\n",
              "    <div>\n",
              "<style scoped>\n",
              "    .dataframe tbody tr th:only-of-type {\n",
              "        vertical-align: middle;\n",
              "    }\n",
              "\n",
              "    .dataframe tbody tr th {\n",
              "        vertical-align: top;\n",
              "    }\n",
              "\n",
              "    .dataframe thead th {\n",
              "        text-align: right;\n",
              "    }\n",
              "</style>\n",
              "<table border=\"1\" class=\"dataframe\">\n",
              "  <thead>\n",
              "    <tr style=\"text-align: right;\">\n",
              "      <th></th>\n",
              "      <th>review</th>\n",
              "      <th>sentiment</th>\n",
              "    </tr>\n",
              "  </thead>\n",
              "  <tbody>\n",
              "    <tr>\n",
              "      <th>0</th>\n",
              "      <td>one reviewers mentioned watching oz episode ho...</td>\n",
              "      <td>positive</td>\n",
              "    </tr>\n",
              "    <tr>\n",
              "      <th>1</th>\n",
              "      <td>wonderful little production br br filming tech...</td>\n",
              "      <td>positive</td>\n",
              "    </tr>\n",
              "    <tr>\n",
              "      <th>2</th>\n",
              "      <td>thought wonderful way spend time hot summer we...</td>\n",
              "      <td>positive</td>\n",
              "    </tr>\n",
              "    <tr>\n",
              "      <th>3</th>\n",
              "      <td>basically family little boy jake thinks zombie...</td>\n",
              "      <td>negative</td>\n",
              "    </tr>\n",
              "    <tr>\n",
              "      <th>4</th>\n",
              "      <td>petter mattei love time money visually stunnin...</td>\n",
              "      <td>positive</td>\n",
              "    </tr>\n",
              "  </tbody>\n",
              "</table>\n",
              "</div>\n",
              "    <div class=\"colab-df-buttons\">\n",
              "\n",
              "  <div class=\"colab-df-container\">\n",
              "    <button class=\"colab-df-convert\" onclick=\"convertToInteractive('df-3e886056-586e-4cda-bf2c-9516da9d97fb')\"\n",
              "            title=\"Convert this dataframe to an interactive table.\"\n",
              "            style=\"display:none;\">\n",
              "\n",
              "  <svg xmlns=\"http://www.w3.org/2000/svg\" height=\"24px\" viewBox=\"0 -960 960 960\">\n",
              "    <path d=\"M120-120v-720h720v720H120Zm60-500h600v-160H180v160Zm220 220h160v-160H400v160Zm0 220h160v-160H400v160ZM180-400h160v-160H180v160Zm440 0h160v-160H620v160ZM180-180h160v-160H180v160Zm440 0h160v-160H620v160Z\"/>\n",
              "  </svg>\n",
              "    </button>\n",
              "\n",
              "  <style>\n",
              "    .colab-df-container {\n",
              "      display:flex;\n",
              "      gap: 12px;\n",
              "    }\n",
              "\n",
              "    .colab-df-convert {\n",
              "      background-color: #E8F0FE;\n",
              "      border: none;\n",
              "      border-radius: 50%;\n",
              "      cursor: pointer;\n",
              "      display: none;\n",
              "      fill: #1967D2;\n",
              "      height: 32px;\n",
              "      padding: 0 0 0 0;\n",
              "      width: 32px;\n",
              "    }\n",
              "\n",
              "    .colab-df-convert:hover {\n",
              "      background-color: #E2EBFA;\n",
              "      box-shadow: 0px 1px 2px rgba(60, 64, 67, 0.3), 0px 1px 3px 1px rgba(60, 64, 67, 0.15);\n",
              "      fill: #174EA6;\n",
              "    }\n",
              "\n",
              "    .colab-df-buttons div {\n",
              "      margin-bottom: 4px;\n",
              "    }\n",
              "\n",
              "    [theme=dark] .colab-df-convert {\n",
              "      background-color: #3B4455;\n",
              "      fill: #D2E3FC;\n",
              "    }\n",
              "\n",
              "    [theme=dark] .colab-df-convert:hover {\n",
              "      background-color: #434B5C;\n",
              "      box-shadow: 0px 1px 3px 1px rgba(0, 0, 0, 0.15);\n",
              "      filter: drop-shadow(0px 1px 2px rgba(0, 0, 0, 0.3));\n",
              "      fill: #FFFFFF;\n",
              "    }\n",
              "  </style>\n",
              "\n",
              "    <script>\n",
              "      const buttonEl =\n",
              "        document.querySelector('#df-3e886056-586e-4cda-bf2c-9516da9d97fb button.colab-df-convert');\n",
              "      buttonEl.style.display =\n",
              "        google.colab.kernel.accessAllowed ? 'block' : 'none';\n",
              "\n",
              "      async function convertToInteractive(key) {\n",
              "        const element = document.querySelector('#df-3e886056-586e-4cda-bf2c-9516da9d97fb');\n",
              "        const dataTable =\n",
              "          await google.colab.kernel.invokeFunction('convertToInteractive',\n",
              "                                                    [key], {});\n",
              "        if (!dataTable) return;\n",
              "\n",
              "        const docLinkHtml = 'Like what you see? Visit the ' +\n",
              "          '<a target=\"_blank\" href=https://colab.research.google.com/notebooks/data_table.ipynb>data table notebook</a>'\n",
              "          + ' to learn more about interactive tables.';\n",
              "        element.innerHTML = '';\n",
              "        dataTable['output_type'] = 'display_data';\n",
              "        await google.colab.output.renderOutput(dataTable, element);\n",
              "        const docLink = document.createElement('div');\n",
              "        docLink.innerHTML = docLinkHtml;\n",
              "        element.appendChild(docLink);\n",
              "      }\n",
              "    </script>\n",
              "  </div>\n",
              "\n",
              "\n",
              "<div id=\"df-915148a1-cee8-4fa3-b0f7-518e70ff0b5a\">\n",
              "  <button class=\"colab-df-quickchart\" onclick=\"quickchart('df-915148a1-cee8-4fa3-b0f7-518e70ff0b5a')\"\n",
              "            title=\"Suggest charts\"\n",
              "            style=\"display:none;\">\n",
              "\n",
              "<svg xmlns=\"http://www.w3.org/2000/svg\" height=\"24px\"viewBox=\"0 0 24 24\"\n",
              "     width=\"24px\">\n",
              "    <g>\n",
              "        <path d=\"M19 3H5c-1.1 0-2 .9-2 2v14c0 1.1.9 2 2 2h14c1.1 0 2-.9 2-2V5c0-1.1-.9-2-2-2zM9 17H7v-7h2v7zm4 0h-2V7h2v10zm4 0h-2v-4h2v4z\"/>\n",
              "    </g>\n",
              "</svg>\n",
              "  </button>\n",
              "\n",
              "<style>\n",
              "  .colab-df-quickchart {\n",
              "      --bg-color: #E8F0FE;\n",
              "      --fill-color: #1967D2;\n",
              "      --hover-bg-color: #E2EBFA;\n",
              "      --hover-fill-color: #174EA6;\n",
              "      --disabled-fill-color: #AAA;\n",
              "      --disabled-bg-color: #DDD;\n",
              "  }\n",
              "\n",
              "  [theme=dark] .colab-df-quickchart {\n",
              "      --bg-color: #3B4455;\n",
              "      --fill-color: #D2E3FC;\n",
              "      --hover-bg-color: #434B5C;\n",
              "      --hover-fill-color: #FFFFFF;\n",
              "      --disabled-bg-color: #3B4455;\n",
              "      --disabled-fill-color: #666;\n",
              "  }\n",
              "\n",
              "  .colab-df-quickchart {\n",
              "    background-color: var(--bg-color);\n",
              "    border: none;\n",
              "    border-radius: 50%;\n",
              "    cursor: pointer;\n",
              "    display: none;\n",
              "    fill: var(--fill-color);\n",
              "    height: 32px;\n",
              "    padding: 0;\n",
              "    width: 32px;\n",
              "  }\n",
              "\n",
              "  .colab-df-quickchart:hover {\n",
              "    background-color: var(--hover-bg-color);\n",
              "    box-shadow: 0 1px 2px rgba(60, 64, 67, 0.3), 0 1px 3px 1px rgba(60, 64, 67, 0.15);\n",
              "    fill: var(--button-hover-fill-color);\n",
              "  }\n",
              "\n",
              "  .colab-df-quickchart-complete:disabled,\n",
              "  .colab-df-quickchart-complete:disabled:hover {\n",
              "    background-color: var(--disabled-bg-color);\n",
              "    fill: var(--disabled-fill-color);\n",
              "    box-shadow: none;\n",
              "  }\n",
              "\n",
              "  .colab-df-spinner {\n",
              "    border: 2px solid var(--fill-color);\n",
              "    border-color: transparent;\n",
              "    border-bottom-color: var(--fill-color);\n",
              "    animation:\n",
              "      spin 1s steps(1) infinite;\n",
              "  }\n",
              "\n",
              "  @keyframes spin {\n",
              "    0% {\n",
              "      border-color: transparent;\n",
              "      border-bottom-color: var(--fill-color);\n",
              "      border-left-color: var(--fill-color);\n",
              "    }\n",
              "    20% {\n",
              "      border-color: transparent;\n",
              "      border-left-color: var(--fill-color);\n",
              "      border-top-color: var(--fill-color);\n",
              "    }\n",
              "    30% {\n",
              "      border-color: transparent;\n",
              "      border-left-color: var(--fill-color);\n",
              "      border-top-color: var(--fill-color);\n",
              "      border-right-color: var(--fill-color);\n",
              "    }\n",
              "    40% {\n",
              "      border-color: transparent;\n",
              "      border-right-color: var(--fill-color);\n",
              "      border-top-color: var(--fill-color);\n",
              "    }\n",
              "    60% {\n",
              "      border-color: transparent;\n",
              "      border-right-color: var(--fill-color);\n",
              "    }\n",
              "    80% {\n",
              "      border-color: transparent;\n",
              "      border-right-color: var(--fill-color);\n",
              "      border-bottom-color: var(--fill-color);\n",
              "    }\n",
              "    90% {\n",
              "      border-color: transparent;\n",
              "      border-bottom-color: var(--fill-color);\n",
              "    }\n",
              "  }\n",
              "</style>\n",
              "\n",
              "  <script>\n",
              "    async function quickchart(key) {\n",
              "      const quickchartButtonEl =\n",
              "        document.querySelector('#' + key + ' button');\n",
              "      quickchartButtonEl.disabled = true;  // To prevent multiple clicks.\n",
              "      quickchartButtonEl.classList.add('colab-df-spinner');\n",
              "      try {\n",
              "        const charts = await google.colab.kernel.invokeFunction(\n",
              "            'suggestCharts', [key], {});\n",
              "      } catch (error) {\n",
              "        console.error('Error during call to suggestCharts:', error);\n",
              "      }\n",
              "      quickchartButtonEl.classList.remove('colab-df-spinner');\n",
              "      quickchartButtonEl.classList.add('colab-df-quickchart-complete');\n",
              "    }\n",
              "    (() => {\n",
              "      let quickchartButtonEl =\n",
              "        document.querySelector('#df-915148a1-cee8-4fa3-b0f7-518e70ff0b5a button');\n",
              "      quickchartButtonEl.style.display =\n",
              "        google.colab.kernel.accessAllowed ? 'block' : 'none';\n",
              "    })();\n",
              "  </script>\n",
              "</div>\n",
              "\n",
              "    </div>\n",
              "  </div>\n"
            ],
            "application/vnd.google.colaboratory.intrinsic+json": {
              "type": "dataframe",
              "variable_name": "data",
              "summary": "{\n  \"name\": \"data\",\n  \"rows\": 1000,\n  \"fields\": [\n    {\n      \"column\": \"review\",\n      \"properties\": {\n        \"dtype\": \"string\",\n        \"num_unique_values\": 1000,\n        \"samples\": [\n          \"one best ensemble acted films ever seen much plot acting incredible see characters change ever subtly undr influence rented villa italy love happiness film casts mesmerizing spell much villa women truly enchanted\",\n          \"written oliver stone directed brian de palma scarface paints picture easily forgotten al pacino turns stunning performance tony montana cuban refugee becomes powerful player drug world ruthlessly runs self made kingdom crime florida gangster flick harsh violent loud gross unpleasant must hold record uttering word f k number times almost three hours long yes get repulsive stout hearted constitution keeps seat cheering demise ruthless crime lord br br also playing interesting characters michelle pfeiffer steven bauer robert loggia mary elizabeth mastrantonio f murray abraham angel salazar pacino proves one greatest generation manages bring reality character leaves strong impression movie everyone leave thinking walked away disaster powerful enough crime pay long\",\n          \"waste talent poor semi coherent script cripples film rather unimaginative direction faint echoes fargo come\"\n        ],\n        \"semantic_type\": \"\",\n        \"description\": \"\"\n      }\n    },\n    {\n      \"column\": \"sentiment\",\n      \"properties\": {\n        \"dtype\": \"category\",\n        \"num_unique_values\": 2,\n        \"samples\": [\n          \"negative\",\n          \"positive\"\n        ],\n        \"semantic_type\": \"\",\n        \"description\": \"\"\n      }\n    }\n  ]\n}"
            }
          },
          "metadata": {},
          "execution_count": 51
        }
      ],
      "source": [
        "# Tải stopwords của NLTK\n",
        "stopwords = set(stopwords.words('english'))\n",
        "def preprocess_text(text):\n",
        "    # Loại bỏ thẻ HTML\n",
        "    #text = BeautifulSoup(text, \"html.parser\").get_text()\n",
        "    # Loại bỏ ký tự đặc biệt và số\n",
        "    text = re.sub(r'[^a-zA-Z]', ' ', text)\n",
        "    # Chuyển đổi thành chữ thường\n",
        "    text = text.lower()\n",
        "    # Tách từ\n",
        "    tokens = word_tokenize(text)\n",
        "    # Loại bỏ stopwords\n",
        "    tokens = [word for word in tokens if word not in stopwords]\n",
        "    # Kết hợp các từ lại thành một câu\n",
        "    clean_text = ' '.join(tokens)\n",
        "    return clean_text\n",
        "\n",
        "# Áp dụng tiền xử lý vào cột 'review'\n",
        "data.loc[:, 'review'] = data['review'].apply(preprocess_text)\n",
        "data.head()"
      ]
    },
    {
      "cell_type": "markdown",
      "metadata": {
        "id": "YEA-u6Pj1pGI"
      },
      "source": [
        "## 3. Xây dựng mô hình\n",
        "\n"
      ]
    },
    {
      "cell_type": "markdown",
      "metadata": {
        "id": "0wgEMU_z1zYz"
      },
      "source": [
        "### Mô hình 1: Không sử dụng BPE (Word2vec)"
      ]
    },
    {
      "cell_type": "code",
      "execution_count": null,
      "metadata": {
        "id": "vg8qw3UPODDT"
      },
      "outputs": [],
      "source": [
        "# Vector semantics sử dụng Word2Vec\n",
        "from gensim.models import Word2Vec, KeyedVectors\n",
        "#'review' là cột chứa các đánh giá đã được xử lý trước\n",
        "data.loc[:, 'tokenized'] = data['review'].apply(lambda x: word_tokenize(x))\n",
        "# Loại bỏ các câu đã được mã hóa thành các từ riêng lẻ\n",
        "tokenized_sentences = data['tokenized'][data['tokenized'].apply(len) > 0]\n",
        "# Huấn luyện mô hình Word2Vec\n",
        "word2vec_model = Word2Vec(sentences=tokenized_sentences, vector_size=100, window=5, min_count=1, workers=4)"
      ]
    },
    {
      "cell_type": "code",
      "execution_count": null,
      "metadata": {
        "id": "KtB5wM-wOchB"
      },
      "outputs": [],
      "source": [
        "# Chuyển đổi đoạn văn thành vectors sử dụng Word2Vec (trung bình của các vectors từng từ)\n",
        "def get_vector(sentence):\n",
        "    vectors = [word2vec_model.wv[word] for word in sentence if word in word2vec_model.wv]\n",
        "    if not vectors:\n",
        "        return np.zeros(word2vec_model.vector_size)\n",
        "    return np.mean(vectors, axis=0)\n",
        "\n",
        "# Giả sử tokenized_sentences là một cột trong DataFrame của bạn\n",
        "data.loc[:, 'word2vec'] = data['tokenized'].apply(get_vector)"
      ]
    },
    {
      "cell_type": "code",
      "execution_count": null,
      "metadata": {
        "colab": {
          "base_uri": "https://localhost:8080/",
          "height": 379
        },
        "id": "qBZYtN_SOrBh",
        "outputId": "4a0183cd-d307-489c-8ddf-0999a86e0f58"
      },
      "outputs": [
        {
          "output_type": "execute_result",
          "data": {
            "text/plain": [
              "                                              review sentiment  \\\n",
              "0  one reviewers mentioned watching oz episode ho...  positive   \n",
              "1  wonderful little production br br filming tech...  positive   \n",
              "2  thought wonderful way spend time hot summer we...  positive   \n",
              "3  basically family little boy jake thinks zombie...  negative   \n",
              "4  petter mattei love time money visually stunnin...  positive   \n",
              "\n",
              "                                           tokenized  \\\n",
              "0  [one, reviewers, mentioned, watching, oz, epis...   \n",
              "1  [wonderful, little, production, br, br, filmin...   \n",
              "2  [thought, wonderful, way, spend, time, hot, su...   \n",
              "3  [basically, family, little, boy, jake, thinks,...   \n",
              "4  [petter, mattei, love, time, money, visually, ...   \n",
              "\n",
              "                                            word2vec  \n",
              "0  [-0.088796884, 0.23938274, 0.15620062, 0.11873...  \n",
              "1  [-0.11023495, 0.30169937, 0.19087982, 0.155272...  \n",
              "2  [-0.107855625, 0.2986823, 0.19135576, 0.150103...  \n",
              "3  [-0.1258983, 0.34083784, 0.2140168, 0.17825179...  \n",
              "4  [-0.1296892, 0.35634145, 0.2278476, 0.17872715...  "
            ],
            "text/html": [
              "\n",
              "  <div id=\"df-e670d2c4-5c73-4a26-b17a-ce77e0057b3f\" class=\"colab-df-container\">\n",
              "    <div>\n",
              "<style scoped>\n",
              "    .dataframe tbody tr th:only-of-type {\n",
              "        vertical-align: middle;\n",
              "    }\n",
              "\n",
              "    .dataframe tbody tr th {\n",
              "        vertical-align: top;\n",
              "    }\n",
              "\n",
              "    .dataframe thead th {\n",
              "        text-align: right;\n",
              "    }\n",
              "</style>\n",
              "<table border=\"1\" class=\"dataframe\">\n",
              "  <thead>\n",
              "    <tr style=\"text-align: right;\">\n",
              "      <th></th>\n",
              "      <th>review</th>\n",
              "      <th>sentiment</th>\n",
              "      <th>tokenized</th>\n",
              "      <th>word2vec</th>\n",
              "    </tr>\n",
              "  </thead>\n",
              "  <tbody>\n",
              "    <tr>\n",
              "      <th>0</th>\n",
              "      <td>one reviewers mentioned watching oz episode ho...</td>\n",
              "      <td>positive</td>\n",
              "      <td>[one, reviewers, mentioned, watching, oz, epis...</td>\n",
              "      <td>[-0.088796884, 0.23938274, 0.15620062, 0.11873...</td>\n",
              "    </tr>\n",
              "    <tr>\n",
              "      <th>1</th>\n",
              "      <td>wonderful little production br br filming tech...</td>\n",
              "      <td>positive</td>\n",
              "      <td>[wonderful, little, production, br, br, filmin...</td>\n",
              "      <td>[-0.11023495, 0.30169937, 0.19087982, 0.155272...</td>\n",
              "    </tr>\n",
              "    <tr>\n",
              "      <th>2</th>\n",
              "      <td>thought wonderful way spend time hot summer we...</td>\n",
              "      <td>positive</td>\n",
              "      <td>[thought, wonderful, way, spend, time, hot, su...</td>\n",
              "      <td>[-0.107855625, 0.2986823, 0.19135576, 0.150103...</td>\n",
              "    </tr>\n",
              "    <tr>\n",
              "      <th>3</th>\n",
              "      <td>basically family little boy jake thinks zombie...</td>\n",
              "      <td>negative</td>\n",
              "      <td>[basically, family, little, boy, jake, thinks,...</td>\n",
              "      <td>[-0.1258983, 0.34083784, 0.2140168, 0.17825179...</td>\n",
              "    </tr>\n",
              "    <tr>\n",
              "      <th>4</th>\n",
              "      <td>petter mattei love time money visually stunnin...</td>\n",
              "      <td>positive</td>\n",
              "      <td>[petter, mattei, love, time, money, visually, ...</td>\n",
              "      <td>[-0.1296892, 0.35634145, 0.2278476, 0.17872715...</td>\n",
              "    </tr>\n",
              "  </tbody>\n",
              "</table>\n",
              "</div>\n",
              "    <div class=\"colab-df-buttons\">\n",
              "\n",
              "  <div class=\"colab-df-container\">\n",
              "    <button class=\"colab-df-convert\" onclick=\"convertToInteractive('df-e670d2c4-5c73-4a26-b17a-ce77e0057b3f')\"\n",
              "            title=\"Convert this dataframe to an interactive table.\"\n",
              "            style=\"display:none;\">\n",
              "\n",
              "  <svg xmlns=\"http://www.w3.org/2000/svg\" height=\"24px\" viewBox=\"0 -960 960 960\">\n",
              "    <path d=\"M120-120v-720h720v720H120Zm60-500h600v-160H180v160Zm220 220h160v-160H400v160Zm0 220h160v-160H400v160ZM180-400h160v-160H180v160Zm440 0h160v-160H620v160ZM180-180h160v-160H180v160Zm440 0h160v-160H620v160Z\"/>\n",
              "  </svg>\n",
              "    </button>\n",
              "\n",
              "  <style>\n",
              "    .colab-df-container {\n",
              "      display:flex;\n",
              "      gap: 12px;\n",
              "    }\n",
              "\n",
              "    .colab-df-convert {\n",
              "      background-color: #E8F0FE;\n",
              "      border: none;\n",
              "      border-radius: 50%;\n",
              "      cursor: pointer;\n",
              "      display: none;\n",
              "      fill: #1967D2;\n",
              "      height: 32px;\n",
              "      padding: 0 0 0 0;\n",
              "      width: 32px;\n",
              "    }\n",
              "\n",
              "    .colab-df-convert:hover {\n",
              "      background-color: #E2EBFA;\n",
              "      box-shadow: 0px 1px 2px rgba(60, 64, 67, 0.3), 0px 1px 3px 1px rgba(60, 64, 67, 0.15);\n",
              "      fill: #174EA6;\n",
              "    }\n",
              "\n",
              "    .colab-df-buttons div {\n",
              "      margin-bottom: 4px;\n",
              "    }\n",
              "\n",
              "    [theme=dark] .colab-df-convert {\n",
              "      background-color: #3B4455;\n",
              "      fill: #D2E3FC;\n",
              "    }\n",
              "\n",
              "    [theme=dark] .colab-df-convert:hover {\n",
              "      background-color: #434B5C;\n",
              "      box-shadow: 0px 1px 3px 1px rgba(0, 0, 0, 0.15);\n",
              "      filter: drop-shadow(0px 1px 2px rgba(0, 0, 0, 0.3));\n",
              "      fill: #FFFFFF;\n",
              "    }\n",
              "  </style>\n",
              "\n",
              "    <script>\n",
              "      const buttonEl =\n",
              "        document.querySelector('#df-e670d2c4-5c73-4a26-b17a-ce77e0057b3f button.colab-df-convert');\n",
              "      buttonEl.style.display =\n",
              "        google.colab.kernel.accessAllowed ? 'block' : 'none';\n",
              "\n",
              "      async function convertToInteractive(key) {\n",
              "        const element = document.querySelector('#df-e670d2c4-5c73-4a26-b17a-ce77e0057b3f');\n",
              "        const dataTable =\n",
              "          await google.colab.kernel.invokeFunction('convertToInteractive',\n",
              "                                                    [key], {});\n",
              "        if (!dataTable) return;\n",
              "\n",
              "        const docLinkHtml = 'Like what you see? Visit the ' +\n",
              "          '<a target=\"_blank\" href=https://colab.research.google.com/notebooks/data_table.ipynb>data table notebook</a>'\n",
              "          + ' to learn more about interactive tables.';\n",
              "        element.innerHTML = '';\n",
              "        dataTable['output_type'] = 'display_data';\n",
              "        await google.colab.output.renderOutput(dataTable, element);\n",
              "        const docLink = document.createElement('div');\n",
              "        docLink.innerHTML = docLinkHtml;\n",
              "        element.appendChild(docLink);\n",
              "      }\n",
              "    </script>\n",
              "  </div>\n",
              "\n",
              "\n",
              "<div id=\"df-cbd44866-a509-43e1-91d8-50ab6f0c27d5\">\n",
              "  <button class=\"colab-df-quickchart\" onclick=\"quickchart('df-cbd44866-a509-43e1-91d8-50ab6f0c27d5')\"\n",
              "            title=\"Suggest charts\"\n",
              "            style=\"display:none;\">\n",
              "\n",
              "<svg xmlns=\"http://www.w3.org/2000/svg\" height=\"24px\"viewBox=\"0 0 24 24\"\n",
              "     width=\"24px\">\n",
              "    <g>\n",
              "        <path d=\"M19 3H5c-1.1 0-2 .9-2 2v14c0 1.1.9 2 2 2h14c1.1 0 2-.9 2-2V5c0-1.1-.9-2-2-2zM9 17H7v-7h2v7zm4 0h-2V7h2v10zm4 0h-2v-4h2v4z\"/>\n",
              "    </g>\n",
              "</svg>\n",
              "  </button>\n",
              "\n",
              "<style>\n",
              "  .colab-df-quickchart {\n",
              "      --bg-color: #E8F0FE;\n",
              "      --fill-color: #1967D2;\n",
              "      --hover-bg-color: #E2EBFA;\n",
              "      --hover-fill-color: #174EA6;\n",
              "      --disabled-fill-color: #AAA;\n",
              "      --disabled-bg-color: #DDD;\n",
              "  }\n",
              "\n",
              "  [theme=dark] .colab-df-quickchart {\n",
              "      --bg-color: #3B4455;\n",
              "      --fill-color: #D2E3FC;\n",
              "      --hover-bg-color: #434B5C;\n",
              "      --hover-fill-color: #FFFFFF;\n",
              "      --disabled-bg-color: #3B4455;\n",
              "      --disabled-fill-color: #666;\n",
              "  }\n",
              "\n",
              "  .colab-df-quickchart {\n",
              "    background-color: var(--bg-color);\n",
              "    border: none;\n",
              "    border-radius: 50%;\n",
              "    cursor: pointer;\n",
              "    display: none;\n",
              "    fill: var(--fill-color);\n",
              "    height: 32px;\n",
              "    padding: 0;\n",
              "    width: 32px;\n",
              "  }\n",
              "\n",
              "  .colab-df-quickchart:hover {\n",
              "    background-color: var(--hover-bg-color);\n",
              "    box-shadow: 0 1px 2px rgba(60, 64, 67, 0.3), 0 1px 3px 1px rgba(60, 64, 67, 0.15);\n",
              "    fill: var(--button-hover-fill-color);\n",
              "  }\n",
              "\n",
              "  .colab-df-quickchart-complete:disabled,\n",
              "  .colab-df-quickchart-complete:disabled:hover {\n",
              "    background-color: var(--disabled-bg-color);\n",
              "    fill: var(--disabled-fill-color);\n",
              "    box-shadow: none;\n",
              "  }\n",
              "\n",
              "  .colab-df-spinner {\n",
              "    border: 2px solid var(--fill-color);\n",
              "    border-color: transparent;\n",
              "    border-bottom-color: var(--fill-color);\n",
              "    animation:\n",
              "      spin 1s steps(1) infinite;\n",
              "  }\n",
              "\n",
              "  @keyframes spin {\n",
              "    0% {\n",
              "      border-color: transparent;\n",
              "      border-bottom-color: var(--fill-color);\n",
              "      border-left-color: var(--fill-color);\n",
              "    }\n",
              "    20% {\n",
              "      border-color: transparent;\n",
              "      border-left-color: var(--fill-color);\n",
              "      border-top-color: var(--fill-color);\n",
              "    }\n",
              "    30% {\n",
              "      border-color: transparent;\n",
              "      border-left-color: var(--fill-color);\n",
              "      border-top-color: var(--fill-color);\n",
              "      border-right-color: var(--fill-color);\n",
              "    }\n",
              "    40% {\n",
              "      border-color: transparent;\n",
              "      border-right-color: var(--fill-color);\n",
              "      border-top-color: var(--fill-color);\n",
              "    }\n",
              "    60% {\n",
              "      border-color: transparent;\n",
              "      border-right-color: var(--fill-color);\n",
              "    }\n",
              "    80% {\n",
              "      border-color: transparent;\n",
              "      border-right-color: var(--fill-color);\n",
              "      border-bottom-color: var(--fill-color);\n",
              "    }\n",
              "    90% {\n",
              "      border-color: transparent;\n",
              "      border-bottom-color: var(--fill-color);\n",
              "    }\n",
              "  }\n",
              "</style>\n",
              "\n",
              "  <script>\n",
              "    async function quickchart(key) {\n",
              "      const quickchartButtonEl =\n",
              "        document.querySelector('#' + key + ' button');\n",
              "      quickchartButtonEl.disabled = true;  // To prevent multiple clicks.\n",
              "      quickchartButtonEl.classList.add('colab-df-spinner');\n",
              "      try {\n",
              "        const charts = await google.colab.kernel.invokeFunction(\n",
              "            'suggestCharts', [key], {});\n",
              "      } catch (error) {\n",
              "        console.error('Error during call to suggestCharts:', error);\n",
              "      }\n",
              "      quickchartButtonEl.classList.remove('colab-df-spinner');\n",
              "      quickchartButtonEl.classList.add('colab-df-quickchart-complete');\n",
              "    }\n",
              "    (() => {\n",
              "      let quickchartButtonEl =\n",
              "        document.querySelector('#df-cbd44866-a509-43e1-91d8-50ab6f0c27d5 button');\n",
              "      quickchartButtonEl.style.display =\n",
              "        google.colab.kernel.accessAllowed ? 'block' : 'none';\n",
              "    })();\n",
              "  </script>\n",
              "</div>\n",
              "\n",
              "    </div>\n",
              "  </div>\n"
            ],
            "application/vnd.google.colaboratory.intrinsic+json": {
              "type": "dataframe",
              "variable_name": "data",
              "summary": "{\n  \"name\": \"data\",\n  \"rows\": 1000,\n  \"fields\": [\n    {\n      \"column\": \"review\",\n      \"properties\": {\n        \"dtype\": \"string\",\n        \"num_unique_values\": 1000,\n        \"samples\": [\n          \"one best ensemble acted films ever seen much plot acting incredible see characters change ever subtly undr influence rented villa italy love happiness film casts mesmerizing spell much villa women truly enchanted\",\n          \"written oliver stone directed brian de palma scarface paints picture easily forgotten al pacino turns stunning performance tony montana cuban refugee becomes powerful player drug world ruthlessly runs self made kingdom crime florida gangster flick harsh violent loud gross unpleasant must hold record uttering word f k number times almost three hours long yes get repulsive stout hearted constitution keeps seat cheering demise ruthless crime lord br br also playing interesting characters michelle pfeiffer steven bauer robert loggia mary elizabeth mastrantonio f murray abraham angel salazar pacino proves one greatest generation manages bring reality character leaves strong impression movie everyone leave thinking walked away disaster powerful enough crime pay long\",\n          \"waste talent poor semi coherent script cripples film rather unimaginative direction faint echoes fargo come\"\n        ],\n        \"semantic_type\": \"\",\n        \"description\": \"\"\n      }\n    },\n    {\n      \"column\": \"sentiment\",\n      \"properties\": {\n        \"dtype\": \"category\",\n        \"num_unique_values\": 2,\n        \"samples\": [\n          \"negative\",\n          \"positive\"\n        ],\n        \"semantic_type\": \"\",\n        \"description\": \"\"\n      }\n    },\n    {\n      \"column\": \"tokenized\",\n      \"properties\": {\n        \"dtype\": \"object\",\n        \"semantic_type\": \"\",\n        \"description\": \"\"\n      }\n    },\n    {\n      \"column\": \"word2vec\",\n      \"properties\": {\n        \"dtype\": \"object\",\n        \"semantic_type\": \"\",\n        \"description\": \"\"\n      }\n    }\n  ]\n}"
            }
          },
          "metadata": {},
          "execution_count": 56
        }
      ],
      "source": [
        "data.head()"
      ]
    },
    {
      "cell_type": "code",
      "execution_count": null,
      "metadata": {
        "id": "x8sP6Bw0Ovfs"
      },
      "outputs": [],
      "source": [
        "# Chia dữ liệu thành các tập huấn luyện và kiểm tra\n",
        "X = np.vstack(data['word2vec'].to_numpy())\n",
        "y = data['sentiment']\n",
        "\n",
        "X_train, X_test, y_train, y_test = train_test_split(X, y, test_size=0.2, random_state=42)\n",
        "\n",
        "# Khởi tạo bộ phân loại SVM\n",
        "svm_classifier = SVC(C=1, kernel='rbf', probability=True)\n",
        "\n",
        "# Huấn luyện mô hình với dữ liệu huấn luyện của bạn\n",
        "svm_classifier.fit(X_train, y_train)\n",
        "\n",
        "# Dự đoán sử dụng mô hình đã huấn luyện\n",
        "predictions_word2vec = svm_classifier.predict(X_test)"
      ]
    },
    {
      "cell_type": "code",
      "execution_count": null,
      "metadata": {
        "colab": {
          "base_uri": "https://localhost:8080/"
        },
        "id": "t_BNIvbALfgT",
        "outputId": "6e0bebc3-30f8-43c7-9d79-d5db2b1e194b"
      },
      "outputs": [
        {
          "output_type": "stream",
          "name": "stdout",
          "text": [
            "Đánh giá mô hình Word2Vec\n",
            "Độ chính xác: 0.47\n",
            "Báo cáo phân loại:\n",
            "              precision    recall  f1-score   support\n",
            "\n",
            "    negative       0.48      0.27      0.35       104\n",
            "    positive       0.46      0.69      0.55        96\n",
            "\n",
            "    accuracy                           0.47       200\n",
            "   macro avg       0.47      0.48      0.45       200\n",
            "weighted avg       0.47      0.47      0.45       200\n",
            "\n"
          ]
        }
      ],
      "source": [
        "# Tính toán các chỉ số đánh giá\n",
        "accuracy_word2vec = accuracy_score(y_test, predictions_word2vec)\n",
        "\n",
        "print(\"Đánh giá mô hình Word2Vec\")\n",
        "print(\"Độ chính xác:\", accuracy_word2vec)\n",
        "print(\"Báo cáo phân loại:\")\n",
        "print(classification_report(y_test, predictions_word2vec, target_names=['negative', 'positive'], zero_division='warn'))"
      ]
    },
    {
      "cell_type": "markdown",
      "metadata": {
        "id": "Z6NK8Po44tbE"
      },
      "source": [
        "### Mô hình 2: Sử dụng BPE"
      ]
    },
    {
      "cell_type": "code",
      "execution_count": null,
      "metadata": {
        "colab": {
          "base_uri": "https://localhost:8080/"
        },
        "id": "hN4IzL9s7CL1",
        "outputId": "2877b435-3206-44ae-f3dc-d805e550abe3"
      },
      "outputs": [
        {
          "output_type": "stream",
          "name": "stdout",
          "text": [
            "Requirement already satisfied: transformers in /usr/local/lib/python3.10/dist-packages (4.40.2)\n",
            "Requirement already satisfied: filelock in /usr/local/lib/python3.10/dist-packages (from transformers) (3.14.0)\n",
            "Requirement already satisfied: huggingface-hub<1.0,>=0.19.3 in /usr/local/lib/python3.10/dist-packages (from transformers) (0.20.3)\n",
            "Requirement already satisfied: numpy>=1.17 in /usr/local/lib/python3.10/dist-packages (from transformers) (1.25.2)\n",
            "Requirement already satisfied: packaging>=20.0 in /usr/local/lib/python3.10/dist-packages (from transformers) (24.0)\n",
            "Requirement already satisfied: pyyaml>=5.1 in /usr/local/lib/python3.10/dist-packages (from transformers) (6.0.1)\n",
            "Requirement already satisfied: regex!=2019.12.17 in /usr/local/lib/python3.10/dist-packages (from transformers) (2023.12.25)\n",
            "Requirement already satisfied: requests in /usr/local/lib/python3.10/dist-packages (from transformers) (2.31.0)\n",
            "Requirement already satisfied: tokenizers<0.20,>=0.19 in /usr/local/lib/python3.10/dist-packages (from transformers) (0.19.1)\n",
            "Requirement already satisfied: safetensors>=0.4.1 in /usr/local/lib/python3.10/dist-packages (from transformers) (0.4.3)\n",
            "Requirement already satisfied: tqdm>=4.27 in /usr/local/lib/python3.10/dist-packages (from transformers) (4.66.4)\n",
            "Requirement already satisfied: fsspec>=2023.5.0 in /usr/local/lib/python3.10/dist-packages (from huggingface-hub<1.0,>=0.19.3->transformers) (2023.6.0)\n",
            "Requirement already satisfied: typing-extensions>=3.7.4.3 in /usr/local/lib/python3.10/dist-packages (from huggingface-hub<1.0,>=0.19.3->transformers) (4.11.0)\n",
            "Requirement already satisfied: charset-normalizer<4,>=2 in /usr/local/lib/python3.10/dist-packages (from requests->transformers) (3.3.2)\n",
            "Requirement already satisfied: idna<4,>=2.5 in /usr/local/lib/python3.10/dist-packages (from requests->transformers) (3.7)\n",
            "Requirement already satisfied: urllib3<3,>=1.21.1 in /usr/local/lib/python3.10/dist-packages (from requests->transformers) (2.0.7)\n",
            "Requirement already satisfied: certifi>=2017.4.17 in /usr/local/lib/python3.10/dist-packages (from requests->transformers) (2024.2.2)\n"
          ]
        }
      ],
      "source": [
        "# Cài đặt transformers\n",
        "!pip install transformers"
      ]
    },
    {
      "cell_type": "code",
      "execution_count": null,
      "metadata": {
        "colab": {
          "base_uri": "https://localhost:8080/"
        },
        "id": "g_CnqLCI-Oqo",
        "outputId": "c84dd3ed-baad-49f0-c142-a960ee85f5a2"
      },
      "outputs": [
        {
          "output_type": "stream",
          "name": "stderr",
          "text": [
            "Some weights of BertForSequenceClassification were not initialized from the model checkpoint at bert-base-uncased and are newly initialized: ['classifier.bias', 'classifier.weight']\n",
            "You should probably TRAIN this model on a down-stream task to be able to use it for predictions and inference.\n"
          ]
        }
      ],
      "source": [
        "from transformers import BertTokenizer, BertForSequenceClassification\n",
        "import torch\n",
        "from sklearn.metrics import accuracy_score, classification_report\n",
        "\n",
        "# Tải mô hình và tokenizer BERT đã được đào tạo trước\n",
        "tokenizer = BertTokenizer.from_pretrained('bert-base-uncased')\n",
        "model = BertForSequenceClassification.from_pretrained('bert-base-uncased')"
      ]
    },
    {
      "cell_type": "code",
      "execution_count": null,
      "metadata": {
        "id": "DitZ0jkXACOx"
      },
      "outputs": [],
      "source": [
        "# Tokenize và tiền xử lý dữ liệu đầu vào, thêm hoặc cắt bớt để đạt đến max_length\n",
        "def tokenize_data(text):\n",
        "    return tokenizer.encode_plus(text,\n",
        "                                  add_special_tokens=True,\n",
        "                                  max_length=128,\n",
        "                                  padding='max_length' if len(tokenizer.tokenize(text)) <= max_length else 'longest',\n",
        "                                  truncation=True,\n",
        "                                  return_attention_mask=True,\n",
        "                                  return_tensors='pt')\n",
        "\n",
        "# Tokenize và tiền xử lý dữ liệu đầu vào\n",
        "tokenized_data = data['review'].apply(tokenize_data)"
      ]
    },
    {
      "cell_type": "code",
      "execution_count": null,
      "metadata": {
        "id": "4FhLT_GJ_4f_"
      },
      "outputs": [],
      "source": [
        "# Chuyển đổi nhãn cảm xúc sang giá trị số\n",
        "label_map = {'positive': 1, 'negative': 0}\n",
        "y_numerical = data['sentiment'].map(label_map)\n",
        "\n",
        "# Chuẩn bị tensors cho đầu vào của mô hình BERT\n",
        "input_ids = torch.cat([tokenized_data[i]['input_ids'] for i in range(len(tokenized_data))], dim=0)\n",
        "attention_masks = torch.cat([tokenized_data[i]['attention_mask'] for i in range(len(tokenized_data))], dim=0)\n",
        "labels = torch.tensor(y_numerical.values)\n",
        "\n",
        "# Chia dữ liệu thành tập huấn luyện và kiểm tra\n",
        "from sklearn.model_selection import train_test_split\n",
        "input_ids_train, input_ids_test, attention_masks_train, attention_masks_test, labels_train, labels_test = train_test_split(\n",
        "    input_ids, attention_masks, labels, test_size=0.2, random_state=42\n",
        ")\n",
        "\n",
        "# Fine-tune mô hình BERT\n",
        "from torch.utils.data import TensorDataset, DataLoader, RandomSampler, SequentialSampler\n",
        "batch_size = 32\n",
        "\n",
        "train_data = TensorDataset(input_ids_train, attention_masks_train, labels_train)\n",
        "train_sampler = RandomSampler(train_data)\n",
        "train_dataloader = DataLoader(train_data, sampler=train_sampler, batch_size=batch_size)\n",
        "\n",
        "test_data = TensorDataset(input_ids_test, attention_masks_test, labels_test)\n",
        "test_sampler = SequentialSampler(test_data)\n",
        "test_dataloader = DataLoader(test_data, sampler=test_sampler, batch_size=batch_size)"
      ]
    },
    {
      "cell_type": "code",
      "execution_count": null,
      "metadata": {
        "id": "McmMUpFMAmRI"
      },
      "outputs": [],
      "source": [
        "from transformers import get_linear_schedule_with_warmup\n",
        "import torch.optim as optim\n",
        "\n",
        "# Định nghĩa bộ tối ưu hóa và lên lịch biến đổi tốc độ học\n",
        "optimizer = optim.AdamW(model.parameters(), lr=2e-5, eps=1e-8)\n",
        "scheduler = get_linear_schedule_with_warmup(optimizer,\n",
        "                                            num_warmup_steps=0,\n",
        "                                            num_training_steps=len(train_dataloader) * 3)\n",
        "\n",
        "# Vòng lặp huấn luyện\n",
        "model.train()\n",
        "for epoch in range(3):\n",
        "    for batch in train_dataloader:\n",
        "        input_ids_batch, attention_masks_batch, labels_batch = batch\n",
        "        outputs = model(input_ids_batch, attention_mask=attention_masks_batch, labels=labels_batch)\n",
        "        loss = outputs.loss\n",
        "        loss.backward()\n",
        "        optimizer.step()\n",
        "        scheduler.step()\n",
        "        optimizer.zero_grad()\n",
        "\n",
        "# Đánh giá\n",
        "model.eval()\n",
        "predictions_bert = []\n",
        "true_labels = []\n",
        "\n",
        "for batch in test_dataloader:\n",
        "    input_ids_batch, attention_masks_batch, labels_batch = batch\n",
        "    with torch.no_grad():\n",
        "        outputs = model(input_ids_batch, attention_mask=attention_masks_batch)\n",
        "        logits = outputs.logits\n",
        "    predictions = torch.argmax(logits, dim=1).tolist()\n",
        "    true_labels.extend(labels_batch.tolist())\n",
        "    predictions_bert.extend(predictions)"
      ]
    },
    {
      "cell_type": "code",
      "execution_count": null,
      "metadata": {
        "colab": {
          "base_uri": "https://localhost:8080/"
        },
        "id": "miig24H-Ax0Z",
        "outputId": "bdd458d5-0885-4a95-8d19-dd87dc9abd61"
      },
      "outputs": [
        {
          "output_type": "stream",
          "name": "stdout",
          "text": [
            "Đánh giá mô hình BERT:\n",
            "Độ chính xác: 0.75\n",
            "Báo cáo phân loại:\n",
            "              precision    recall  f1-score   support\n",
            "\n",
            "    negative       0.66      0.93      0.77        46\n",
            "    positive       0.91      0.59      0.72        54\n",
            "\n",
            "    accuracy                           0.75       100\n",
            "   macro avg       0.79      0.76      0.75       100\n",
            "weighted avg       0.80      0.75      0.74       100\n",
            "\n"
          ]
        }
      ],
      "source": [
        "# Tính toán các chỉ số đánh giá\n",
        "accuracy_bert = accuracy_score(true_labels, predictions_bert)\n",
        "\n",
        "# In ra các chỉ số đánh giá\n",
        "print(\"Đánh giá mô hình BERT:\")\n",
        "print(\"Độ chính xác:\", accuracy_bert)\n",
        "print(\"Báo cáo phân loại:\")\n",
        "print(classification_report(true_labels, predictions_bert, target_names=['negative', 'positive'], zero_division='warn'))"
      ]
    },
    {
      "cell_type": "markdown",
      "metadata": {
        "id": "MxKUuJhkPYmH"
      },
      "source": [
        "## 4. Phân loại nhãn cho một review mới"
      ]
    },
    {
      "cell_type": "code",
      "execution_count": null,
      "metadata": {
        "id": "Uk18pCqeXfIh"
      },
      "outputs": [],
      "source": [
        "# Nhập câu từ bàn phím\n",
        "input = 'A film very good'"
      ]
    },
    {
      "cell_type": "markdown",
      "metadata": {
        "id": "ukjQ6xWwdKb5"
      },
      "source": [
        "**Với mô hình không sử dụng BPE**"
      ]
    },
    {
      "cell_type": "code",
      "execution_count": null,
      "metadata": {
        "colab": {
          "base_uri": "https://localhost:8080/"
        },
        "id": "inRCC3y-dcME",
        "outputId": "54577281-8f48-49ba-f644-2a1700761e4d"
      },
      "outputs": [
        {
          "output_type": "stream",
          "name": "stdout",
          "text": [
            "Nhãn dự đoán từ Word2Vec: negative\n",
            "Phần trăm chính xác: 51.34552881936426 %\n"
          ]
        }
      ],
      "source": [
        "def preprocess_word2vec(sentence):\n",
        "    tokenized = word_tokenize(sentence)\n",
        "    vector = get_vector(tokenized)\n",
        "    return vector.reshape(1, -1)\n",
        "\n",
        "vector_word2vec = preprocess_word2vec(input)\n",
        "predict_label_word2vec = svm_classifier.predict(vector_word2vec)\n",
        "predict_proba_word2vec = svm_classifier.predict_proba(vector_word2vec)\n",
        "\n",
        "print(\"Nhãn dự đoán từ Word2Vec:\", predict_label_word2vec[0])\n",
        "print(\"Phần trăm chính xác:\", predict_proba_word2vec.max() * 100, \"%\")"
      ]
    },
    {
      "cell_type": "markdown",
      "metadata": {
        "id": "30vJp5zAcvu0"
      },
      "source": [
        "**Với mô hình sử dụng BPE**"
      ]
    },
    {
      "cell_type": "code",
      "execution_count": null,
      "metadata": {
        "colab": {
          "base_uri": "https://localhost:8080/"
        },
        "id": "4oJEkMWVc6jA",
        "outputId": "45e6656c-960b-4ae8-f527-9643766a310b"
      },
      "outputs": [
        {
          "output_type": "stream",
          "name": "stdout",
          "text": [
            "Nhãn dự đoán từ Bert: negative\n",
            "Phần trăm chính xác: 68.03271770477295 %\n"
          ]
        }
      ],
      "source": [
        "def preprocess_bert(sentence):\n",
        "    inputs = tokenizer(sentence, return_tensors=\"pt\", max_length=128, truncation=True, padding=True)\n",
        "    return inputs\n",
        "\n",
        "preprocessed_input = preprocess_bert(input)\n",
        "\n",
        "with torch.no_grad():\n",
        "    outputs = model(**preprocessed_input)\n",
        "    logits = outputs.logits\n",
        "\n",
        "predicted_label_bert = torch.argmax(logits, dim=1).item()\n",
        "\n",
        "softmax = torch.nn.Softmax(dim=1)\n",
        "probs = softmax(logits)\n",
        "\n",
        "print(\"Nhãn dự đoán từ Bert:\", \"positive\" if predicted_label_bert == 1 else \"negative\")\n",
        "print(\"Phần trăm chính xác:\", probs[0][predicted_label_bert].item() * 100, \"%\")"
      ]
    },
    {
      "cell_type": "markdown",
      "source": [
        "# Câu 2:"
      ],
      "metadata": {
        "id": "J1uO805-Fx7l"
      }
    },
    {
      "cell_type": "markdown",
      "source": [
        "## Chuẩn bị dữ liệu"
      ],
      "metadata": {
        "id": "cf38sE2vF7Lu"
      }
    },
    {
      "cell_type": "code",
      "source": [
        "import requests\n",
        "import re\n",
        "from bs4 import BeautifulSoup\n",
        "\n",
        "# URL của tập tin văn bản\n",
        "url = \"https://raw.githubusercontent.com/binhvq/news-corpus/master/sample/demo-full.txt\"\n",
        "\n",
        "# Hàm để tải và xử lý tập tin văn bản\n",
        "def fetch_and_split_text(url):\n",
        "    # Tải nội dung của URL\n",
        "    response = requests.get(url)\n",
        "    if response.status_code != 200:\n",
        "        return []\n",
        "\n",
        "    # Nội dung của tập tin văn bản\n",
        "    text_content = response.text\n",
        "\n",
        "    # Tách văn bản thành các câu sử dụng biểu thức chính quy\n",
        "    sentences = re.split(r'(?<!\\w\\.\\w.)(?<![A-Z][a-z]\\.)(?<=\\.|\\?)\\s', text_content)\n",
        "    return sentences\n",
        "\n",
        "# Tải và tách văn bản\n",
        "data = fetch_and_split_text(url)\n",
        "print(data[:10])  # Hiển thị 10 câu đầu tiên để kiểm tra\n",
        "print(type(data))"
      ],
      "metadata": {
        "colab": {
          "base_uri": "https://localhost:8080/"
        },
        "id": "cbiqkGRDhO-Q",
        "outputId": "b3c94fcc-3948-4c57-8c25-c10453004218"
      },
      "execution_count": null,
      "outputs": [
        {
          "output_type": "stream",
          "name": "stdout",
          "text": [
            "['Chây ì nộp phạt nguội.', \"Hàng chục ngàn phương tiện bị ghi hình vi phạm luật giao thông ở TP.HCM, bị 'bêu tên' nhưng chủ vẫn không chịu nộp phạt.\", 'Trên cổng thông tin điện tử của Công an TP.HCM (CATP), mục thông tin về phương tiện vi phạm hành chính qua hình ảnh (từ ngày 4.1.2017 - 4.1.2018), có ghi nhận biển số xe, lỗi vi phạm, ngày vi phạm của 34.118 phương tiện (ô tô) chưa nộp phạt.', 'Đây là các phương tiện vi phạm được camera (di động hoặc cố định) của CATP ghi hình phạt nguội .', 'Điều đáng nói, dù Phòng CSGT đường bộ - đường sắt (PC67), CATP nhiều lần gửi giấy thông báo vi phạm về công an địa phương nhưng chủ hoặc người điều khiển phương tiện vẫn chưa thực hiện quyết định xử phạt hành chính.', 'Phổ biến nhất là lỗi đỗ không đúng nơi quy định.', 'Chẳng hạn từ tháng 1 - 7.2017, ô tô BS: 14A-130...', '23 lần đỗ không đúng nơi quy định trên đường Hàm Nghi, Q.1; từ tháng 3 - 10.2017, ô tô BS: 30S-087...', '34 lần đỗ trên đường Nguyễn Cư Trinh, Q.1; từ tháng 4 - 10.2017, ô tô BS: 86B-0066...', '34 lần đỗ trên đường Nguyễn Cư Trinh, Q.1; từ tháng 5 - 12.2017, ô tô BS: 86B-0074...']\n",
            "<class 'list'>\n"
          ]
        }
      ]
    },
    {
      "cell_type": "markdown",
      "source": [
        "Chuẩn bị danh sách các lỗi Tiếng Việt thường gặp"
      ],
      "metadata": {
        "id": "rmdL6avfeqoY"
      }
    },
    {
      "cell_type": "code",
      "source": [
        "vowel = list('aáàảãạăắằẳẵặâấầẩẫậeéèẻẽẹêếềểễệiíìỉĩịoóòỏõọôốồổỗộơớờởỡợuúùủũụưứừửữựyýỳỷỹỵAÁÀẢÃẠĂẮẰẲẴẶÂẤẦẨẪẬEÉÈẺẼẸÊẾỀỂỄỆIÍÌỈĨỊOÓÒỎÕỌÔỐỒỔỖỘƠỚỜỞỠỢUÚÙỦŨỤƯỨỪỬỮỰYÝỲỶỸỴ')\n",
        "full_letters = vowel + list('bcdđfghjklmnpqrstvwxzBCDĐFGHJKLMNPQRSTVWZX')\n",
        "\n",
        "# Những lỗi thường gặp trong tiếng Việt\n",
        "  # Lỗi đánh máy\n",
        "typo = {\n",
        "    'á': 'as', 'à': 'af', 'ả': 'ar', 'ã': 'ax', 'ạ': 'aj', 'ắ': 'aws', 'ằ': 'awf', 'ẳ': 'awr', 'ẵ': 'awx', 'ặ': 'awj',\n",
        "    'ấ': 'aas', 'ầ': 'aaf', 'ẩ': 'aar', 'ẫ': 'aax', 'ậ': 'aaj', 'é': 'es', 'è': 'ef', 'ẻ': 'er', 'ẽ': 'ex', 'ẹ': 'ej',\n",
        "    'ế': 'ees', 'ề': 'eef', 'ể': 'eer', 'ễ': 'eex', 'ệ': 'eej', 'í': 'is', 'ì': 'if', 'ỉ': 'ir', 'ĩ': 'ix', 'ị': 'ij',\n",
        "    'ó': 'os', 'ò': 'of', 'ỏ': 'or', 'õ': 'ox', 'ọ': 'oj', 'ố': 'oos', 'ồ': 'oof', 'ổ': 'oor', 'ỗ': 'oox', 'ộ': 'ooj',\n",
        "    'ớ': 'ows', 'ờ': 'owf', 'ở': 'owr', 'ỡ': 'owx', 'ợ': 'owj', 'ú': 'us', 'ù': 'uf', 'ủ': 'ur', 'ũ': 'ux', 'ụ': 'uj',\n",
        "    'ứ': 'uws', 'ừ': 'uwf', 'ử': 'uwr', 'ữ': 'uwx', 'ự': 'uwj', 'ý': 'ys', 'ỳ': 'yf', 'ỷ': 'yr', 'ỹ': 'yx', 'ỵ': 'yj',\n",
        "    'Á': 'As', 'À': 'Af', 'Ả': 'Ar', 'Ã': 'Ax', 'Ạ': 'Aj', 'Ắ': 'Aws', 'Ằ': 'Awf', 'Ẳ': 'Awr', 'Ẵ': 'Awx', 'Ặ': 'Awj',\n",
        "    'Ấ': 'Aas', 'Ầ': 'Aaf', 'Ẩ': 'Aar', 'Ẫ': 'Aax', 'Ậ': 'Aaj', 'É': 'Es', 'È': 'Ef', 'Ẻ': 'Er', 'Ẽ': 'Ex', 'Ẹ': 'Ej',\n",
        "    'Ế': 'Ees', 'Ề': 'Eef', 'Ể': 'Eer', 'Ễ': 'Eex', 'Ệ': 'Eej', 'Í': 'Is', 'Ì': 'If', 'Ỉ': 'Ir', 'Ĩ': 'Ix', 'Ị': 'Ij',\n",
        "    'Ó': 'Os', 'Ò': 'Of', 'Ỏ': 'Or', 'Õ': 'Ox', 'Ọ': 'Oj', 'Ố': 'Oos', 'Ồ': 'Oof', 'Ổ': 'Oor', 'Ỗ': 'Oox', 'Ộ': 'Ooj',\n",
        "    'Ớ': 'Ows', 'Ờ': 'Owf', 'Ở': 'Owr', 'Ỡ': 'Owx', 'Ợ': 'Owj', 'Ú': 'Us', 'Ù': 'Uf', 'Ủ': 'Ur', 'Ũ': 'Ux', 'Ụ': 'Uj',\n",
        "    'Ứ': 'Uws', 'Ừ': 'Uwf', 'Ử': 'Uwr', 'Ữ': 'Uwx', 'Ự': 'Uwj', 'Ý': 'Ys', 'Ỳ': 'Yf', 'Ỷ': 'Yr', 'Ỹ': 'Yx', 'Ỵ': 'Yj'\n",
        "}\n",
        "\n",
        "  # Lỗi vùng miền (phát âm sai)\n",
        "region = {\n",
        "    'ả': 'ã', 'ã': 'ả', 'ỏ': 'õ', 'õ': 'ỏ','ỉ': 'ĩ', 'ĩ': 'ỉ', 'ủ': 'ũ', 'ũ': 'ủ', 'ỷ': 'ỹ', 'ỹ': 'ỷ', 'Ả': 'Ã',\n",
        "    'Ã': 'Ả', 'Ỏ': 'Õ', 'Õ': 'Ỏ', 'Ỉ': 'Ĩ', 'Ĩ': 'Ỉ', 'Ủ': 'Ũ', 'Ũ': 'Ủ','Ỷ': 'Ỹ', 'Ỹ': 'Ỷ'\n",
        "}\n",
        "\n",
        "region2 = {\n",
        "    'ch': 'tr', 'tr': 'ch', 'x': 's', 's': 'x', 'd': 'gi', 'gi': 'd', 'r': 'd', 'd': 'r', 'l': 'n', 'n': 'l', 'Ch': 'Tr',\n",
        "    'Tr': 'Ch', 'X': 'S', 'S': 'X', 'D': 'Gi', 'Gi': 'D', 'R': 'D', 'D': 'R', 'L': 'N', 'N': 'L'\n",
        "}\n",
        "  # Lỗi viết tắt\n",
        "acronym = {\n",
        "    'ck': 'chồng', 'ôg': 'ông', 'e': 'em', 'đc': 'được', 'ko': 'không', 'bn': 'bạn', 'mik': 'mình', 'a': 'anh', 'v': 'và',\n",
        "    'đk': 'được', 'dc': 'được', 'j': 'gì', 'r': 'rồi', 'nt': 'nhắn tin','tv': 'ti vi', 'kq': 'kết quả', 'mn': 'mọi người',\n",
        "    'bh': 'bây giờ', 'tn': 'thế nào', 'bc': 'báo cáo', 'bt': 'bình thường', 'cmt': 'comment', 'ns': 'nói', 'st': 'status',\n",
        "    'qc': 'quảng cáo', 'kc': 'khác', 'ht': 'hiện tại', 'gd': 'gia đình', 'k': 'không', 'c': 'con', 'vđ': 'vấn đề', 'tp': 'thành phố',\n",
        "    'nh': 'nhà', 'h': 'hôm', 'n': 'năm', 'vẫn': 'vẫn', 'thấy': 'thấy', 'bn': 'bao nhiêu', 'cv': 'công việc', 'thk': 'thích'\n",
        "}"
      ],
      "metadata": {
        "id": "msDR31fcefIZ"
      },
      "execution_count": null,
      "outputs": []
    },
    {
      "cell_type": "markdown",
      "source": [
        "Hàm phát sinh lỗi chính tả thường gặp"
      ],
      "metadata": {
        "id": "KdjbvqEVef7Y"
      }
    },
    {
      "cell_type": "code",
      "source": [
        "!pip install unidecode"
      ],
      "metadata": {
        "colab": {
          "base_uri": "https://localhost:8080/"
        },
        "id": "PQsQzKc2Ates",
        "outputId": "f0172839-55fd-4b7d-ceb1-37c22f2abe75"
      },
      "execution_count": null,
      "outputs": [
        {
          "output_type": "stream",
          "name": "stdout",
          "text": [
            "Requirement already satisfied: unidecode in /usr/local/lib/python3.10/dist-packages (1.3.8)\n"
          ]
        }
      ]
    },
    {
      "cell_type": "code",
      "execution_count": null,
      "metadata": {
        "id": "xMXOLWxrY7Vp"
      },
      "outputs": [],
      "source": [
        "import re\n",
        "import numpy as np\n",
        "from unidecode import unidecode\n",
        "\n",
        "# Hàm để tạo ra từ viết tắt trong câu\n",
        "def _teen_code(sentence):\n",
        "  random = np.random.uniform(0,1,1)[0]\n",
        "  new_sentence = str(sentence)\n",
        "\n",
        "  if random > 0.5:\n",
        "    for word in acronym.keys():\n",
        "      random2 = np.random.uniform(0,1,1)[0]\n",
        "      if random2 < 0.5:\n",
        "        new_sentence = re.sub(word, acronym[word], new_sentence)\n",
        "    return new_sentence\n",
        "  else:\n",
        "    return sentence\n",
        "\n",
        "# Hàm thêm các lỗi bằng xác suất ngẫu nhiên\n",
        "def _add_noise(sentence):\n",
        "    sentence = _teen_code(sentence)\n",
        "    noisy_sentence = ''\n",
        "\n",
        "    i = 0\n",
        "    while i < len(sentence):\n",
        "        if sentence[i] not in full_letters:\n",
        "            noisy_sentence += sentence[i]\n",
        "        else:\n",
        "            random = np.random.uniform(0, 1, 1)[0]\n",
        "            if random <= 0.94:\n",
        "                noisy_sentence += sentence[i]\n",
        "            elif random <= 0.985:\n",
        "                if sentence[i] in typo.keys():\n",
        "                    if sentence[i] in region.keys():\n",
        "                        random2 = np.random.uniform(0, 1, 1)[0]\n",
        "                        if random2 <= 0.4:\n",
        "                            noisy_sentence += typo[sentence[i]]\n",
        "                        elif random2 < 0.8:\n",
        "                            noisy_sentence += region[sentence[i]]\n",
        "                        elif random2 < 0.95:\n",
        "                            noisy_sentence += unidecode(sentence[i])  # Sửa đổi tại đây\n",
        "                        else:\n",
        "                            noisy_sentence += sentence[i]\n",
        "                    else:\n",
        "                        random3 = np.random.uniform(0, 1, 1)[0]\n",
        "                        if random3 <= 0.6:\n",
        "                            noisy_sentence += typo[sentence[i]]\n",
        "                        elif random3 < 0.9:\n",
        "                            noisy_sentence += unidecode(sentence[i])  # Sửa đổi tại đây\n",
        "                        else:\n",
        "                            noisy_sentence += sentence[i]\n",
        "                elif i == 0 or sentence[i-1] not in full_letters:\n",
        "                    random4 = np.random.uniform(0, 1, 1)[0]\n",
        "                    if random4 <= 0.9:\n",
        "                        if i < len(sentence) - 1 and sentence[i] in region2.keys() and sentence[i+1] in vowel:\n",
        "                            noisy_sentence += region2[sentence[i]]\n",
        "                        elif i < len(sentence) - 2 and sentence[i:i+2] in region2.keys() and sentence[i+2] in vowel:\n",
        "                            noisy_sentence += region2[sentence[i:i+2]]\n",
        "                            i += 1\n",
        "                        else:\n",
        "                            noisy_sentence += sentence[i]\n",
        "                    else:\n",
        "                        noisy_sentence += sentence[i]\n",
        "                else:\n",
        "                    new_random = np.random.uniform(0, 1, 1)[0]\n",
        "                    if new_random <= 0.33 and i != len(sentence) - 1:\n",
        "                        noisy_sentence += sentence[i + 1]\n",
        "                        noisy_sentence += sentence[i]\n",
        "                        i += 1\n",
        "                    else:\n",
        "                        noisy_sentence += sentence[i]\n",
        "        i += 1\n",
        "    return noisy_sentence"
      ]
    },
    {
      "cell_type": "code",
      "source": [
        "_add_noise('Tôi sẽ quay lại vào một ngày gần nhất')"
      ],
      "metadata": {
        "colab": {
          "base_uri": "https://localhost:8080/",
          "height": 36
        },
        "id": "bTlxabdieBmh",
        "outputId": "e10b51ee-6fd7-4488-b09a-66dadf371031"
      },
      "execution_count": null,
      "outputs": [
        {
          "output_type": "execute_result",
          "data": {
            "text/plain": [
              "'Tôi sẽ quay lại vào một nămàgy gầnăm nămhàất'"
            ],
            "application/vnd.google.colaboratory.intrinsic+json": {
              "type": "string"
            }
          },
          "metadata": {},
          "execution_count": 126
        }
      ]
    },
    {
      "cell_type": "code",
      "source": [
        "# Các ký tự có thể xuất hiện trong encoder\n",
        "alphabet = ['\\x00',' '] + list('0123456789') + full_letters\n",
        "print(len(alphabet))\n",
        "print(alphabet)"
      ],
      "metadata": {
        "colab": {
          "base_uri": "https://localhost:8080/"
        },
        "id": "T5PyniiVfjmi",
        "outputId": "a8f7f20d-cef6-4073-d0cc-26f22be27e31"
      },
      "execution_count": null,
      "outputs": [
        {
          "output_type": "stream",
          "name": "stdout",
          "text": [
            "198\n",
            "['\\x00', ' ', '0', '1', '2', '3', '4', '5', '6', '7', '8', '9', 'a', 'á', 'à', 'ả', 'ã', 'ạ', 'ă', 'ắ', 'ằ', 'ẳ', 'ẵ', 'ặ', 'â', 'ấ', 'ầ', 'ẩ', 'ẫ', 'ậ', 'e', 'é', 'è', 'ẻ', 'ẽ', 'ẹ', 'ê', 'ế', 'ề', 'ể', 'ễ', 'ệ', 'i', 'í', 'ì', 'ỉ', 'ĩ', 'ị', 'o', 'ó', 'ò', 'ỏ', 'õ', 'ọ', 'ô', 'ố', 'ồ', 'ổ', 'ỗ', 'ộ', 'ơ', 'ớ', 'ờ', 'ở', 'ỡ', 'ợ', 'u', 'ú', 'ù', 'ủ', 'ũ', 'ụ', 'ư', 'ứ', 'ừ', 'ử', 'ữ', 'ự', 'y', 'ý', 'ỳ', 'ỷ', 'ỹ', 'ỵ', 'A', 'Á', 'À', 'Ả', 'Ã', 'Ạ', 'Ă', 'Ắ', 'Ằ', 'Ẳ', 'Ẵ', 'Ặ', 'Â', 'Ấ', 'Ầ', 'Ẩ', 'Ẫ', 'Ậ', 'E', 'É', 'È', 'Ẻ', 'Ẽ', 'Ẹ', 'Ê', 'Ế', 'Ề', 'Ể', 'Ễ', 'Ệ', 'I', 'Í', 'Ì', 'Ỉ', 'Ĩ', 'Ị', 'O', 'Ó', 'Ò', 'Ỏ', 'Õ', 'Ọ', 'Ô', 'Ố', 'Ồ', 'Ổ', 'Ỗ', 'Ộ', 'Ơ', 'Ớ', 'Ờ', 'Ở', 'Ỡ', 'Ợ', 'U', 'Ú', 'Ù', 'Ủ', 'Ũ', 'Ụ', 'Ư', 'Ứ', 'Ừ', 'Ử', 'Ữ', 'Ự', 'Y', 'Ý', 'Ỳ', 'Ỷ', 'Ỹ', 'Ỵ', 'b', 'c', 'd', 'đ', 'f', 'g', 'h', 'j', 'k', 'l', 'm', 'n', 'p', 'q', 'r', 's', 't', 'v', 'w', 'x', 'z', 'B', 'C', 'D', 'Đ', 'F', 'G', 'H', 'J', 'K', 'L', 'M', 'N', 'P', 'Q', 'R', 'S', 'T', 'V', 'W', 'Z', 'X']\n"
          ]
        }
      ]
    },
    {
      "cell_type": "markdown",
      "source": [
        "Tách câu thành các cụm từ"
      ],
      "metadata": {
        "id": "PKV9ujZmjIh8"
      }
    },
    {
      "cell_type": "code",
      "source": [
        "phrases = []\n",
        "\n",
        "for text in data:\n",
        "  # Thay thế hoặc xóa bỏ các ký tự thừa\n",
        "  for c in set(text):\n",
        "    if re.match('\\w',c) and c not in alphabet:\n",
        "      uc = unidecode(c)\n",
        "      if re.match('\\w',uc) and uc not in alphabet:\n",
        "        text = re.sub(c, '',text)\n",
        "      else:\n",
        "        text = re.sub(c,uc,text)\n",
        "  phrases += re.findall(r'\\w[\\w\\s]+',text)\n",
        "\n",
        "phrases = [p.strip() for p in phrases if len(p.split()) > 1]\n",
        "print(len(phrases))\n",
        "phrases[-10:]"
      ],
      "metadata": {
        "colab": {
          "base_uri": "https://localhost:8080/"
        },
        "id": "0Naui2DWjYa6",
        "outputId": "d15be772-1d10-46ea-82cb-b602410250bb"
      },
      "execution_count": null,
      "outputs": [
        {
          "output_type": "stream",
          "name": "stdout",
          "text": [
            "3712\n"
          ]
        },
        {
          "output_type": "execute_result",
          "data": {
            "text/plain": [
              "['2017 đã bỏ nội dung của điều 5 Thông tư 15',\n",
              " '2014 về việc',\n",
              " 'người bán',\n",
              " 'tặng xe phải thông báo bằng văn bản đến cơ quan đã cấp Giấy chứng nhận đăng ký xe đó để theo dõi',\n",
              " 'và nội dung',\n",
              " 'chủ xe không thông báo thì tiếp tục phải chịu trách nhiệm trước pháp luật về chiếc xe đó đến khi tổ chức',\n",
              " 'cá nhân mua',\n",
              " 'được điều chuyển',\n",
              " 'tặng xe làm thủ tục đăng ký sang tên',\n",
              " 'di chuyển xe']"
            ]
          },
          "metadata": {},
          "execution_count": 78
        }
      ]
    },
    {
      "cell_type": "markdown",
      "source": [
        "Tách các cụm từ thành danh sách 5-grams với maxlen = 39"
      ],
      "metadata": {
        "id": "_gRAyONqrhOF"
      }
    },
    {
      "cell_type": "code",
      "source": [
        "from nltk import ngrams\n",
        "\n",
        "NGRAM = 5\n",
        "MAXLEN = 39\n",
        "\n",
        "list_ngrams = []\n",
        "for p in phrases:\n",
        "  list_p = p.split()\n",
        "  if (len(list_p) >= NGRAM):\n",
        "    for ngr in ngrams(p.split(), NGRAM):\n",
        "      if len(' '.join(ngr)) <= MAXLEN:\n",
        "        list_ngrams.append(' '.join(ngr))\n",
        "  elif len(' '.join(list_p)) <= MAXLEN:\n",
        "    list_ngrams.append(' '.join(list_p))\n",
        "list_ngrams = list((list_ngrams))\n",
        "print(len(list_ngrams))\n",
        "list_ngrams[:10]"
      ],
      "metadata": {
        "colab": {
          "base_uri": "https://localhost:8080/"
        },
        "id": "tymPyICVrfw2",
        "outputId": "17635e7c-14bd-4f45-93e6-62a7bdf7b444"
      },
      "execution_count": null,
      "outputs": [
        {
          "output_type": "stream",
          "name": "stdout",
          "text": [
            "21906\n"
          ]
        },
        {
          "output_type": "execute_result",
          "data": {
            "text/plain": [
              "['Chây ì nộp phạt nguội',\n",
              " 'Hàng chục ngàn phương tiện',\n",
              " 'chục ngàn phương tiện bị',\n",
              " 'ngàn phương tiện bị ghi',\n",
              " 'phương tiện bị ghi hình',\n",
              " 'tiện bị ghi hình vi',\n",
              " 'bị ghi hình vi phạm',\n",
              " 'ghi hình vi phạm luật',\n",
              " 'hình vi phạm luật giao',\n",
              " 'vi phạm luật giao thông']"
            ]
          },
          "metadata": {},
          "execution_count": 79
        }
      ]
    },
    {
      "cell_type": "markdown",
      "source": [
        "Hàm encoder và decoder"
      ],
      "metadata": {
        "id": "TFUjq9Batskm"
      }
    },
    {
      "cell_type": "code",
      "source": [
        "def _encoder_data(text):\n",
        "  x = np.zeros((MAXLEN, len(alphabet)))\n",
        "  for i, c in enumerate(text[:MAXLEN]):\n",
        "    x[i, alphabet.index(c)] = 1\n",
        "  if i < MAXLEN - 1:\n",
        "    for j in range(i+1, MAXLEN):\n",
        "      x[j, 0] = 1\n",
        "  return x\n",
        "\n",
        "def _decoder_data(x):\n",
        "  x = x.argmax(axis = -1)\n",
        "  return ''.join(alphabet[i] for i in x)"
      ],
      "metadata": {
        "id": "IIQgWAv5tuq2"
      },
      "execution_count": null,
      "outputs": []
    },
    {
      "cell_type": "code",
      "source": [
        "print(_encoder_data('nhập môn xử lý ngôn ngữ tự nhiên').shape)\n",
        "print(_decoder_data(_encoder_data('nhập môn xử lý ngôn ngữ tự nhiên')))"
      ],
      "metadata": {
        "colab": {
          "base_uri": "https://localhost:8080/"
        },
        "id": "B6meXS2Ju6Re",
        "outputId": "a938a28a-66b2-4c4e-d6fd-3ae776f28160"
      },
      "execution_count": null,
      "outputs": [
        {
          "output_type": "stream",
          "name": "stdout",
          "text": [
            "(39, 198)\n",
            "nhập môn xử lý ngôn ngữ tự nhiên\u0000\u0000\u0000\u0000\u0000\u0000\u0000\n"
          ]
        }
      ]
    },
    {
      "cell_type": "markdown",
      "source": [
        "## Xây dựng mô hình"
      ],
      "metadata": {
        "id": "gAVDbJitkfl5"
      }
    },
    {
      "cell_type": "code",
      "source": [
        "# Kiến trúc mạng neural nhân tạo seq2seq\n",
        "from keras.models import Sequential\n",
        "from keras.layers import Activation, TimeDistributed, Dense, LSTM, Bidirectional\n",
        "from tensorflow.keras.optimizers import Adam\n",
        "from sklearn.model_selection import train_test_split\n",
        "import numpy as np"
      ],
      "metadata": {
        "id": "ZM3Lr8-xvW28"
      },
      "execution_count": null,
      "outputs": []
    },
    {
      "cell_type": "code",
      "source": [
        "encoder = LSTM(256, input_shape=(MAXLEN, len(alphabet)), return_sequences=True)"
      ],
      "metadata": {
        "id": "FcGU24nRkd96"
      },
      "execution_count": null,
      "outputs": []
    },
    {
      "cell_type": "code",
      "source": [
        "decoder = Bidirectional(LSTM(256, return_sequences=True, dropout=0.2))"
      ],
      "metadata": {
        "id": "4AaZkVnkmN-H"
      },
      "execution_count": null,
      "outputs": []
    },
    {
      "cell_type": "code",
      "source": [
        "model = Sequential()\n",
        "\n",
        "model.add(encoder)\n",
        "model.add(decoder)\n",
        "model.add(TimeDistributed(Dense(256)))\n",
        "model.add(Activation('relu'))\n",
        "model.add(TimeDistributed(Dense(len(alphabet))))\n",
        "model.add(Activation('softmax'))\n",
        "\n",
        "model.compile(loss='categorical_crossentropy',\n",
        "              optimizer=Adam(learning_rate=0.001),\n",
        "              metrics=['accuracy'])\n",
        "model.summary()"
      ],
      "metadata": {
        "colab": {
          "base_uri": "https://localhost:8080/"
        },
        "id": "qOB4q_kamiG3",
        "outputId": "3e2aca8e-91e1-46cf-b1b4-420b979b1fca"
      },
      "execution_count": null,
      "outputs": [
        {
          "output_type": "stream",
          "name": "stdout",
          "text": [
            "Model: \"sequential_2\"\n",
            "_________________________________________________________________\n",
            " Layer (type)                Output Shape              Param #   \n",
            "=================================================================\n",
            " lstm_4 (LSTM)               (None, 39, 256)           465920    \n",
            "                                                                 \n",
            " bidirectional_2 (Bidirecti  (None, 39, 512)           1050624   \n",
            " onal)                                                           \n",
            "                                                                 \n",
            " time_distributed_4 (TimeDi  (None, 39, 256)           131328    \n",
            " stributed)                                                      \n",
            "                                                                 \n",
            " activation_4 (Activation)   (None, 39, 256)           0         \n",
            "                                                                 \n",
            " time_distributed_5 (TimeDi  (None, 39, 198)           50886     \n",
            " stributed)                                                      \n",
            "                                                                 \n",
            " activation_5 (Activation)   (None, 39, 198)           0         \n",
            "                                                                 \n",
            "=================================================================\n",
            "Total params: 1698758 (6.48 MB)\n",
            "Trainable params: 1698758 (6.48 MB)\n",
            "Non-trainable params: 0 (0.00 Byte)\n",
            "_________________________________________________________________\n"
          ]
        }
      ]
    },
    {
      "cell_type": "markdown",
      "source": [
        "Tách dữ liệu thành tập training và validation"
      ],
      "metadata": {
        "id": "guQzIhW0nm8X"
      }
    },
    {
      "cell_type": "code",
      "source": [
        "from sklearn.model_selection import train_test_split\n",
        "train_data, valid_data = train_test_split(list_ngrams, test_size=0.2, random_state=42)"
      ],
      "metadata": {
        "id": "NJ6qmBaWniKH"
      },
      "execution_count": null,
      "outputs": []
    },
    {
      "cell_type": "code",
      "source": [
        "print(len(train_data))"
      ],
      "metadata": {
        "colab": {
          "base_uri": "https://localhost:8080/"
        },
        "id": "fwOyeNsAvrd0",
        "outputId": "28af0df5-3a82-41b8-b0db-10d622e102f6"
      },
      "execution_count": null,
      "outputs": [
        {
          "output_type": "stream",
          "name": "stdout",
          "text": [
            "17524\n"
          ]
        }
      ]
    },
    {
      "cell_type": "code",
      "source": [
        "print(len(valid_data))"
      ],
      "metadata": {
        "colab": {
          "base_uri": "https://localhost:8080/"
        },
        "id": "VkMQoynevwaL",
        "outputId": "4a13b089-f5ad-4351-c568-b819bbd9e304"
      },
      "execution_count": null,
      "outputs": [
        {
          "output_type": "stream",
          "name": "stdout",
          "text": [
            "4382\n"
          ]
        }
      ]
    },
    {
      "cell_type": "code",
      "source": [
        "# Chia tách dữ liệu để tránh tràn RAM\n",
        "BATCH_SIZE = 512\n",
        "EPOCHS = 10\n",
        "\n",
        "def _generate_data(data, batch_size):\n",
        "    current_index = 0\n",
        "    while True:\n",
        "        x, y = [], []\n",
        "        for i in range(batch_size):\n",
        "            y.append(_encoder_data(data[current_index]))\n",
        "            x.append(_encoder_data(_add_noise(data[current_index])))\n",
        "            current_index += 1\n",
        "            if current_index >= len(data):\n",
        "                current_index = 0\n",
        "        yield np.array(x), np.array(y)"
      ],
      "metadata": {
        "id": "1XYzQn5MoNlN"
      },
      "execution_count": null,
      "outputs": []
    },
    {
      "cell_type": "code",
      "source": [
        "train_generator = _generate_data(data=train_data, batch_size=BATCH_SIZE)\n",
        "validation_generator = _generate_data(data=valid_data, batch_size=BATCH_SIZE)"
      ],
      "metadata": {
        "id": "CUWJzR5xpnXE"
      },
      "execution_count": null,
      "outputs": []
    },
    {
      "cell_type": "markdown",
      "source": [
        "## Huấn luyện mô hình"
      ],
      "metadata": {
        "id": "eeQ6ZTaqqFXq"
      }
    },
    {
      "cell_type": "code",
      "source": [
        "H = model.fit(\n",
        "    train_generator,\n",
        "    epochs=EPOCHS,\n",
        "    steps_per_epoch=len(train_data) // BATCH_SIZE,\n",
        "    validation_data=validation_generator,\n",
        "    validation_steps=len(valid_data) // BATCH_SIZE\n",
        ")\n",
        "\n",
        "# Lưu mô hình\n",
        "model.save('model_{0:.4f}.h5'.format(H.history['val_accuracy'][-1]))"
      ],
      "metadata": {
        "colab": {
          "base_uri": "https://localhost:8080/"
        },
        "id": "LRlGaMqyqHSi",
        "outputId": "f19fe78c-6c8c-4607-a49d-f06bfaa80fa0"
      },
      "execution_count": null,
      "outputs": [
        {
          "output_type": "stream",
          "name": "stdout",
          "text": [
            "Epoch 1/10\n",
            "34/34 [==============================] - 190s 5s/step - loss: 2.6025 - accuracy: 0.5289 - val_loss: 1.9323 - val_accuracy: 0.5759\n",
            "Epoch 2/10\n",
            "34/34 [==============================] - 178s 5s/step - loss: 1.9034 - accuracy: 0.5777 - val_loss: 1.8809 - val_accuracy: 0.5806\n",
            "Epoch 3/10\n",
            "34/34 [==============================] - 176s 5s/step - loss: 1.8782 - accuracy: 0.5796 - val_loss: 1.8721 - val_accuracy: 0.5803\n",
            "Epoch 4/10\n",
            "34/34 [==============================] - 180s 5s/step - loss: 1.8666 - accuracy: 0.5806 - val_loss: 1.8576 - val_accuracy: 0.5818\n",
            "Epoch 5/10\n",
            "34/34 [==============================] - 174s 5s/step - loss: 1.8563 - accuracy: 0.5811 - val_loss: 1.8518 - val_accuracy: 0.5835\n",
            "Epoch 6/10\n",
            "34/34 [==============================] - 181s 5s/step - loss: 1.8183 - accuracy: 0.5853 - val_loss: 1.7652 - val_accuracy: 0.5948\n",
            "Epoch 7/10\n",
            "34/34 [==============================] - 182s 5s/step - loss: 1.7104 - accuracy: 0.6029 - val_loss: 1.6183 - val_accuracy: 0.6196\n",
            "Epoch 8/10\n",
            "34/34 [==============================] - 180s 5s/step - loss: 1.5282 - accuracy: 0.6396 - val_loss: 1.3928 - val_accuracy: 0.6672\n",
            "Epoch 9/10\n",
            "34/34 [==============================] - 186s 6s/step - loss: 1.2936 - accuracy: 0.6853 - val_loss: 1.1557 - val_accuracy: 0.7129\n",
            "Epoch 10/10\n",
            "34/34 [==============================] - 181s 5s/step - loss: 1.0697 - accuracy: 0.7340 - val_loss: 0.9839 - val_accuracy: 0.7524\n"
          ]
        },
        {
          "output_type": "stream",
          "name": "stderr",
          "text": [
            "/usr/local/lib/python3.10/dist-packages/keras/src/engine/training.py:3103: UserWarning: You are saving your model as an HDF5 file via `model.save()`. This file format is considered legacy. We recommend using instead the native Keras format, e.g. `model.save('my_model.keras')`.\n",
            "  saving_api.save_model(\n"
          ]
        }
      ]
    },
    {
      "cell_type": "markdown",
      "source": [
        "## Ứng dụng mô hình"
      ],
      "metadata": {
        "id": "5b8dueIE8X2x"
      }
    },
    {
      "cell_type": "code",
      "source": [
        "from collections import Counter\n",
        "from keras.models import load_model\n",
        "import nltk\n",
        "import numpy as np\n",
        "import re\n",
        "\n",
        "model = load_model(\"model_0.7524.h5\")\n",
        "NGRAM = 5\n",
        "MAXLEN = 39"
      ],
      "metadata": {
        "id": "hvCYzaFd8IV5"
      },
      "execution_count": null,
      "outputs": []
    },
    {
      "cell_type": "markdown",
      "source": [
        "Các hàm xử lý Tiếng Việt"
      ],
      "metadata": {
        "id": "CHitmHyz-cre"
      }
    },
    {
      "cell_type": "code",
      "source": [
        "# Tách câu thành các ngram\n",
        "def _nltk_ngrams(sentence, n, maxlen):\n",
        "  list_ngrams = []\n",
        "  list_words = sentence.split()\n",
        "  num_words = len(list_words)\n",
        "\n",
        "  if (num_words >= n):\n",
        "    for ngram in nltk.ngrams(list_words, n):\n",
        "      if len(' '.join(ngram)) <= maxlen:\n",
        "        list_ngrams.append(ngram)\n",
        "  else:\n",
        "    list_ngrams.append(tuple(list_words))\n",
        "\n",
        "  return list_ngrams"
      ],
      "metadata": {
        "id": "WC7mzELL-hHi"
      },
      "execution_count": null,
      "outputs": []
    },
    {
      "cell_type": "code",
      "source": [
        "_nltk_ngrams('Xuwr ly ngonn ngu tuwj nhiên', NGRAM, MAXLEN)"
      ],
      "metadata": {
        "colab": {
          "base_uri": "https://localhost:8080/"
        },
        "id": "Z2fTCTxi_jOO",
        "outputId": "b2ae342a-33b3-488e-d432-07621da74056"
      },
      "execution_count": null,
      "outputs": [
        {
          "output_type": "execute_result",
          "data": {
            "text/plain": [
              "[('Xuwr', 'ly', 'ngonn', 'ngu', 'tuwj'),\n",
              " ('ly', 'ngonn', 'ngu', 'tuwj', 'nhiên')]"
            ]
          },
          "metadata": {},
          "execution_count": 108
        }
      ]
    },
    {
      "cell_type": "code",
      "source": [
        "# Dự đoán ngram bằng mô hình\n",
        "def _guess(ngram):\n",
        "  text = ' '.join(ngram)\n",
        "  preds = model.predict(np.array([_encoder_data(text)]))\n",
        "\n",
        "  return _decoder_data(preds[0]).strip('\\x00')"
      ],
      "metadata": {
        "id": "BiDZYk1VJ0bK"
      },
      "execution_count": null,
      "outputs": []
    },
    {
      "cell_type": "code",
      "source": [
        "_guess(('Xuwr', 'lys', 'ngono', 'nguwx', 'tu'))"
      ],
      "metadata": {
        "colab": {
          "base_uri": "https://localhost:8080/",
          "height": 53
        },
        "id": "q2DfQ3PhKicZ",
        "outputId": "4002d8c8-8aad-4b71-92ee-65348b120743"
      },
      "execution_count": null,
      "outputs": [
        {
          "output_type": "stream",
          "name": "stdout",
          "text": [
            "1/1 [==============================] - 0s 43ms/step\n"
          ]
        },
        {
          "output_type": "execute_result",
          "data": {
            "text/plain": [
              "'uuu  lền nggn      '"
            ],
            "application/vnd.google.colaboratory.intrinsic+json": {
              "type": "string"
            }
          },
          "metadata": {},
          "execution_count": 119
        }
      ]
    },
    {
      "cell_type": "code",
      "source": [
        "# Thêm dấu câu sau khi sửa lỗi chính tả\n",
        "def _add_punctuation(text, corrected_text):\n",
        "  list_punctuation = {}\n",
        "\n",
        "  for (i, word) in enumerate(text.split()):\n",
        "    if word[0] not in alphabet or word[-1] not in alphabet:\n",
        "      start_punc = ''\n",
        "      for c in word:\n",
        "        if c in alphabet:\n",
        "          break\n",
        "        start_punc += c\n",
        "\n",
        "      end_punc = ''\n",
        "      for c in word[::-1]:\n",
        "        if c in alphabet:\n",
        "          break\n",
        "        end_punc += c\n",
        "      end_punc = end_punc[::-1]\n",
        "\n",
        "      list_punctuation[i] = [start_punc, end_punc]\n",
        "  result = ''\n",
        "  for (i, word) in enumerate(corrected_text.split()):\n",
        "    if i in list_punctuation:\n",
        "      result += (list_punctuation[i][0]+word+list_punctuation[0][i])+' '\n",
        "    else:\n",
        "      result += word + ' '\n",
        "  return result.strip()"
      ],
      "metadata": {
        "id": "BkGPajvbLG7Q"
      },
      "execution_count": null,
      "outputs": []
    },
    {
      "cell_type": "code",
      "source": [
        "# Sửa lỗi chính tả trong câu\n",
        "def _correct(text):\n",
        "  new_text = re.sub(r'[^' + ''.join(alphabet) + ']', '', text)\n",
        "\n",
        "  ngrams = list(_nltk_ngrams(new_text, NGRAM, MAXLEN))\n",
        "  guessed_ngrams = list(_guess(ngram) for ngram in ngrams)\n",
        "  candidates = [Counter() for _ in range(len(guessed_ngrams) + NGRAM -1)]\n",
        "\n",
        "  for nid, ngram in (enumerate(guessed_ngrams)):\n",
        "    for wid, word in (enumerate(re.split('\\s', ngram))):\n",
        "      candidates[nid + wid].update([word])\n",
        "\n",
        "  corrected_text = ' '.join(c.most_common(1)[0][0] for c in candidates if c)\n",
        "  return _add_punctuation(text, corrected_text)"
      ],
      "metadata": {
        "id": "WGuugOiMNjKm"
      },
      "execution_count": null,
      "outputs": []
    },
    {
      "cell_type": "code",
      "source": [
        "text = 'Xuw ly ngon ngu tuwj nhiên'\n",
        "_correct(text)"
      ],
      "metadata": {
        "colab": {
          "base_uri": "https://localhost:8080/",
          "height": 70
        },
        "id": "fZfE747UPawc",
        "outputId": "0fc1293d-e521-44a3-a4f3-2ccec18b1eff"
      },
      "execution_count": null,
      "outputs": [
        {
          "output_type": "stream",
          "name": "stdout",
          "text": [
            "1/1 [==============================] - 0s 193ms/step\n",
            "1/1 [==============================] - 0s 199ms/step\n"
          ]
        },
        {
          "output_type": "execute_result",
          "data": {
            "text/plain": [
              "'uuu ly nghn ngu tế nnnn'"
            ],
            "application/vnd.google.colaboratory.intrinsic+json": {
              "type": "string"
            }
          },
          "metadata": {},
          "execution_count": 122
        }
      ]
    },
    {
      "cell_type": "code",
      "source": [
        "text = input()\n",
        "result = _correct(text)\n",
        "print(result)"
      ],
      "metadata": {
        "colab": {
          "base_uri": "https://localhost:8080/"
        },
        "id": "jUiUBnAGPmxr",
        "outputId": "b63c970c-5ba3-4891-a5fc-c328e580bd7b"
      },
      "execution_count": null,
      "outputs": [
        {
          "output_type": "stream",
          "name": "stdout",
          "text": [
            "vk ck con cái\n",
            "1/1 [==============================] - 0s 63ms/step\n",
            "vi cá con cái\n"
          ]
        }
      ]
    }
  ],
  "metadata": {
    "colab": {
      "provenance": [],
      "toc_visible": true
    },
    "kernelspec": {
      "display_name": "Python 3",
      "name": "python3"
    },
    "language_info": {
      "name": "python"
    }
  },
  "nbformat": 4,
  "nbformat_minor": 0
}